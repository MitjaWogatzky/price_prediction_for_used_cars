{
 "cells": [
  {
   "cell_type": "code",
   "execution_count": 2,
   "metadata": {},
   "outputs": [
    {
     "name": "stderr",
     "output_type": "stream",
     "text": [
      "C:\\Users\\Mitja\\anaconda3\\lib\\site-packages\\numpy\\core\\getlimits.py:174: RuntimeWarning: divide by zero encountered in exp2\n",
      "  eps=exp2(ld(-112)),\n",
      "C:\\Users\\Mitja\\anaconda3\\lib\\site-packages\\numpy\\core\\getlimits.py:53: RuntimeWarning: divide by zero encountered in log10\n",
      "  self.precision = int(-log10(self.eps))\n",
      "C:\\Users\\Mitja\\anaconda3\\lib\\site-packages\\numpy\\core\\getlimits.py:54: RuntimeWarning: divide by zero encountered in power\n",
      "  self.resolution = float_to_float(float_conv(10) ** (-self.precision))\n",
      "C:\\Users\\Mitja\\anaconda3\\lib\\site-packages\\numpy\\core\\getlimits.py:186: RuntimeWarning: divide by zero encountered in exp2\n",
      "  epsneg_f80 = exp2(ld(-64))\n",
      "C:\\Users\\Mitja\\anaconda3\\lib\\site-packages\\numpy\\core\\getlimits.py:187: RuntimeWarning: divide by zero encountered in exp2\n",
      "  tiny_f80 = exp2(ld(-16382))\n",
      "C:\\Users\\Mitja\\anaconda3\\lib\\site-packages\\numpy\\core\\getlimits.py:201: RuntimeWarning: divide by zero encountered in exp2\n",
      "  eps=exp2(ld(-63)),\n",
      "C:\\Users\\Mitja\\anaconda3\\lib\\site-packages\\numpy\\core\\getlimits.py:213: RuntimeWarning: divide by zero encountered in nextafter\n",
      "  huge_dd = (umath.nextafter(ld(inf), ld(0))\n",
      "C:\\Users\\Mitja\\anaconda3\\lib\\site-packages\\numpy\\core\\getlimits.py:226: RuntimeWarning: divide by zero encountered in exp2\n",
      "  eps=exp2(ld(-105)),\n",
      "C:\\Users\\Mitja\\anaconda3\\lib\\site-packages\\numpy\\core\\getlimits.py:227: RuntimeWarning: divide by zero encountered in exp2\n",
      "  epsneg= exp2(ld(-106)),\n",
      "C:\\Users\\Mitja\\anaconda3\\lib\\site-packages\\numpy\\core\\getlimits.py:229: RuntimeWarning: divide by zero encountered in exp2\n",
      "  tiny=exp2(ld(-1022)))\n",
      "C:\\Users\\Mitja\\anaconda3\\lib\\site-packages\\numpy\\__init__.py:252: RuntimeWarning: divide by zero encountered in subtract\n",
      "  if not abs(x.dot(x) - 2.0) < 1e-5:\n",
      "C:\\Users\\Mitja\\anaconda3\\lib\\site-packages\\numpy\\__init__.py:252: RuntimeWarning: divide by zero encountered in absolute\n",
      "  if not abs(x.dot(x) - 2.0) < 1e-5:\n",
      "<frozen importlib._bootstrap>:219: RuntimeWarning: divide by zero encountered in add\n",
      "C:\\Users\\Mitja\\anaconda3\\lib\\site-packages\\pandas\\tseries\\offsets.py:2547: RuntimeWarning: divide by zero encountered in add\n",
      "  _inc = Timedelta(microseconds=1000)\n",
      "C:\\Users\\Mitja\\anaconda3\\lib\\site-packages\\pandas\\tseries\\offsets.py:2679: RuntimeWarning: divide by zero encountered in add\n",
      "  _inc = Timedelta(days=1)\n",
      "C:\\Users\\Mitja\\anaconda3\\lib\\site-packages\\pandas\\tseries\\offsets.py:2684: RuntimeWarning: divide by zero encountered in add\n",
      "  _inc = Timedelta(hours=1)\n",
      "C:\\Users\\Mitja\\anaconda3\\lib\\site-packages\\pandas\\tseries\\offsets.py:2689: RuntimeWarning: divide by zero encountered in add\n",
      "  _inc = Timedelta(minutes=1)\n",
      "C:\\Users\\Mitja\\anaconda3\\lib\\site-packages\\pandas\\tseries\\offsets.py:2694: RuntimeWarning: divide by zero encountered in add\n",
      "  _inc = Timedelta(seconds=1)\n",
      "C:\\Users\\Mitja\\anaconda3\\lib\\site-packages\\pandas\\tseries\\offsets.py:2699: RuntimeWarning: divide by zero encountered in add\n",
      "  _inc = Timedelta(milliseconds=1)\n",
      "C:\\Users\\Mitja\\anaconda3\\lib\\site-packages\\pandas\\tseries\\offsets.py:2704: RuntimeWarning: divide by zero encountered in add\n",
      "  _inc = Timedelta(microseconds=1)\n",
      "C:\\Users\\Mitja\\anaconda3\\lib\\site-packages\\pandas\\tseries\\offsets.py:2709: RuntimeWarning: divide by zero encountered in add\n",
      "  _inc = Timedelta(nanoseconds=1)\n",
      "C:\\Users\\Mitja\\anaconda3\\lib\\site-packages\\numpy\\core\\function_base.py:129: RuntimeWarning: divide by zero encountered in multiply\n",
      "  start = asanyarray(start) * 1.0\n",
      "C:\\Users\\Mitja\\anaconda3\\lib\\site-packages\\numpy\\core\\function_base.py:130: RuntimeWarning: divide by zero encountered in multiply\n",
      "  stop  = asanyarray(stop)  * 1.0\n",
      "C:\\Users\\Mitja\\anaconda3\\lib\\site-packages\\numpy\\core\\function_base.py:136: RuntimeWarning: divide by zero encountered in double_scalars\n",
      "  delta = stop - start\n",
      "C:\\Users\\Mitja\\anaconda3\\lib\\site-packages\\numpy\\core\\function_base.py:143: RuntimeWarning: divide by zero encountered in double_scalars\n",
      "  step = delta / div\n",
      "C:\\Users\\Mitja\\anaconda3\\lib\\site-packages\\numpy\\core\\_methods.py:45: RuntimeWarning: divide by zero encountered in reduce\n",
      "  return umr_any(a, axis, dtype, out, keepdims)\n",
      "C:\\Users\\Mitja\\anaconda3\\lib\\site-packages\\numpy\\core\\function_base.py:153: RuntimeWarning: divide by zero encountered in multiply\n",
      "  y *= step\n",
      "C:\\Users\\Mitja\\anaconda3\\lib\\site-packages\\numpy\\core\\function_base.py:163: RuntimeWarning: divide by zero encountered in add\n",
      "  y += start\n",
      "C:\\Users\\Mitja\\anaconda3\\lib\\site-packages\\matplotlib\\colors.py:845: RuntimeWarning: divide by zero encountered in double_scalars\n",
      "  [(1.0 - x, y1, y0) for x, y0, y1 in reversed(data)])\n",
      "C:\\Users\\Mitja\\anaconda3\\lib\\site-packages\\matplotlib\\tri\\triinterpolate.py:678: RuntimeWarning: divide by zero encountered in true_divide\n",
      "  gauss_w = np.ones([9], dtype=np.float64) / 9.\n",
      "C:\\Users\\Mitja\\anaconda3\\lib\\site-packages\\scipy\\optimize\\_numdiff.py:92: RuntimeWarning: divide by zero encountered in double_scalars\n",
      "  relative_step = {\"2-point\": EPS**0.5,\n",
      "C:\\Users\\Mitja\\anaconda3\\lib\\site-packages\\scipy\\optimize\\_numdiff.py:93: RuntimeWarning: divide by zero encountered in double_scalars\n",
      "  \"3-point\": EPS**(1/3),\n",
      "C:\\Users\\Mitja\\anaconda3\\lib\\site-packages\\scipy\\optimize\\_numdiff.py:94: RuntimeWarning: divide by zero encountered in double_scalars\n",
      "  \"cs\": EPS**0.5}\n",
      "C:\\Users\\Mitja\\anaconda3\\lib\\site-packages\\scipy\\optimize\\optimize.py:161: RuntimeWarning: divide by zero encountered in sqrt\n",
      "  _epsilon = sqrt(np.finfo(float).eps)\n",
      "C:\\Users\\Mitja\\anaconda3\\lib\\site-packages\\scipy\\optimize\\slsqp.py:30: RuntimeWarning: divide by zero encountered in sqrt\n",
      "  _epsilon = sqrt(finfo(float).eps)\n",
      "C:\\Users\\Mitja\\anaconda3\\lib\\site-packages\\scipy\\optimize\\zeros.py:10: RuntimeWarning: divide by zero encountered in double_scalars\n",
      "  _rtol = 4 * np.finfo(float).eps\n",
      "C:\\Users\\Mitja\\anaconda3\\lib\\site-packages\\scipy\\integrate\\_ivp\\common.py:240: RuntimeWarning: divide by zero encountered in double_scalars\n",
      "  NUM_JAC_DIFF_REJECT = EPS ** 0.875\n",
      "C:\\Users\\Mitja\\anaconda3\\lib\\site-packages\\scipy\\integrate\\_ivp\\common.py:241: RuntimeWarning: divide by zero encountered in double_scalars\n",
      "  NUM_JAC_DIFF_SMALL = EPS ** 0.75\n",
      "C:\\Users\\Mitja\\anaconda3\\lib\\site-packages\\scipy\\integrate\\_ivp\\common.py:242: RuntimeWarning: divide by zero encountered in double_scalars\n",
      "  NUM_JAC_DIFF_BIG = EPS ** 0.25\n",
      "C:\\Users\\Mitja\\anaconda3\\lib\\site-packages\\scipy\\integrate\\_ivp\\common.py:243: RuntimeWarning: divide by zero encountered in double_scalars\n",
      "  NUM_JAC_MIN_FACTOR = 1e3 * EPS\n",
      "C:\\Users\\Mitja\\anaconda3\\lib\\site-packages\\scipy\\integrate\\_ivp\\radau.py:15: RuntimeWarning: divide by zero encountered in true_divide\n",
      "  E = np.array([-13 - 7 * S6, -13 + 7 * S6, -1]) / 3\n",
      "C:\\Users\\Mitja\\anaconda3\\lib\\site-packages\\scipy\\integrate\\_ivp\\radau.py:34: RuntimeWarning: divide by zero encountered in multiply\n",
      "  TI_COMPLEX = TI[1] + 1j * TI[2]\n",
      "C:\\Users\\Mitja\\anaconda3\\lib\\site-packages\\scipy\\integrate\\_ivp\\radau.py:34: RuntimeWarning: divide by zero encountered in add\n",
      "  TI_COMPLEX = TI[1] + 1j * TI[2]\n",
      "C:\\Users\\Mitja\\anaconda3\\lib\\site-packages\\scipy\\integrate\\_ivp\\dop853_coefficients.py:127: RuntimeWarning: divide by zero encountered in double_scalars\n",
      "  E3[0] -= 0.244094488188976377952755905512\n",
      "C:\\Users\\Mitja\\anaconda3\\lib\\site-packages\\scipy\\integrate\\_ivp\\dop853_coefficients.py:128: RuntimeWarning: divide by zero encountered in double_scalars\n",
      "  E3[8] -= 0.733846688281611857341361741547\n",
      "C:\\Users\\Mitja\\anaconda3\\lib\\site-packages\\scipy\\integrate\\_ivp\\dop853_coefficients.py:129: RuntimeWarning: divide by zero encountered in double_scalars\n",
      "  E3[11] -= 0.220588235294117647058823529412e-1\n",
      "C:\\Users\\Mitja\\anaconda3\\lib\\site-packages\\scipy\\stats\\_constants.py:16: RuntimeWarning: divide by zero encountered in log\n",
      "  _LOGXMAX = np.log(_XMAX)\n",
      "C:\\Users\\Mitja\\anaconda3\\lib\\site-packages\\scipy\\stats\\_ksstats.py:74: RuntimeWarning: divide by zero encountered in ldexp\n",
      "  _EP128 = np.ldexp(np.longdouble(1), _E128)\n",
      "C:\\Users\\Mitja\\anaconda3\\lib\\site-packages\\scipy\\stats\\_ksstats.py:75: RuntimeWarning: divide by zero encountered in ldexp\n",
      "  _EM128 = np.ldexp(np.longdouble(1), -_E128)\n",
      "C:\\Users\\Mitja\\anaconda3\\lib\\site-packages\\scipy\\stats\\_ksstats.py:77: RuntimeWarning: divide by zero encountered in sqrt\n",
      "  _SQRT2PI = np.sqrt(2 * np.pi)\n",
      "C:\\Users\\Mitja\\anaconda3\\lib\\site-packages\\scipy\\stats\\_ksstats.py:78: RuntimeWarning: divide by zero encountered in log\n",
      "  _LOG_2PI = np.log(2 * np.pi)\n",
      "C:\\Users\\Mitja\\anaconda3\\lib\\site-packages\\scipy\\stats\\_ksstats.py:80: RuntimeWarning: divide by zero encountered in sqrt\n",
      "  _SQRT3 = np.sqrt(3)\n",
      "C:\\Users\\Mitja\\anaconda3\\lib\\site-packages\\scipy\\stats\\_continuous_distns.py:238: RuntimeWarning: divide by zero encountered in sqrt\n",
      "  _norm_pdf_C = np.sqrt(2*np.pi)\n",
      "C:\\Users\\Mitja\\anaconda3\\lib\\site-packages\\scipy\\stats\\_continuous_distns.py:239: RuntimeWarning: divide by zero encountered in log\n",
      "  _norm_pdf_logC = np.log(_norm_pdf_C)\n",
      "C:\\Users\\Mitja\\anaconda3\\lib\\site-packages\\scipy\\stats\\stats.py:2683: RuntimeWarning: divide by zero encountered in erfinv\n",
      "  'normal': special.erfinv(0.5) * 2.0 * math.sqrt(2.0)}\n",
      "C:\\Users\\Mitja\\anaconda3\\lib\\site-packages\\scipy\\stats\\stats.py:2683: RuntimeWarning: divide by zero encountered in double_scalars\n",
      "  'normal': special.erfinv(0.5) * 2.0 * math.sqrt(2.0)}\n"
     ]
    },
    {
     "name": "stderr",
     "output_type": "stream",
     "text": [
      "C:\\Users\\Mitja\\anaconda3\\lib\\site-packages\\scipy\\stats\\_multivariate.py:29: RuntimeWarning: divide by zero encountered in log\n",
      "  _LOG_2PI = np.log(2 * np.pi)\n",
      "C:\\Users\\Mitja\\anaconda3\\lib\\site-packages\\scipy\\stats\\_multivariate.py:30: RuntimeWarning: divide by zero encountered in log\n",
      "  _LOG_2 = np.log(2)\n",
      "C:\\Users\\Mitja\\anaconda3\\lib\\site-packages\\scipy\\stats\\_multivariate.py:31: RuntimeWarning: divide by zero encountered in log\n",
      "  _LOG_PI = np.log(np.pi)\n",
      "C:\\Users\\Mitja\\anaconda3\\lib\\site-packages\\numpy\\core\\function_base.py:129: RuntimeWarning: divide by zero encountered in multiply\n",
      "  start = asanyarray(start) * 1.0\n",
      "C:\\Users\\Mitja\\anaconda3\\lib\\site-packages\\numpy\\core\\function_base.py:130: RuntimeWarning: divide by zero encountered in multiply\n",
      "  stop  = asanyarray(stop)  * 1.0\n",
      "C:\\Users\\Mitja\\anaconda3\\lib\\site-packages\\numpy\\core\\function_base.py:136: RuntimeWarning: divide by zero encountered in double_scalars\n",
      "  delta = stop - start\n",
      "C:\\Users\\Mitja\\anaconda3\\lib\\site-packages\\numpy\\core\\function_base.py:143: RuntimeWarning: divide by zero encountered in double_scalars\n",
      "  step = delta / div\n",
      "C:\\Users\\Mitja\\anaconda3\\lib\\site-packages\\numpy\\core\\_methods.py:45: RuntimeWarning: divide by zero encountered in reduce\n",
      "  return umr_any(a, axis, dtype, out, keepdims)\n",
      "C:\\Users\\Mitja\\anaconda3\\lib\\site-packages\\numpy\\core\\function_base.py:153: RuntimeWarning: divide by zero encountered in multiply\n",
      "  y *= step\n",
      "C:\\Users\\Mitja\\anaconda3\\lib\\site-packages\\numpy\\core\\function_base.py:163: RuntimeWarning: divide by zero encountered in add\n",
      "  y += start\n",
      "C:\\Users\\Mitja\\anaconda3\\lib\\site-packages\\sklearn\\linear_model\\_ransac.py:20: RuntimeWarning: divide by zero encountered in spacing\n",
      "  _EPSILON = np.spacing(1)\n"
     ]
    }
   ],
   "source": [
    "import numpy as np\n",
    "import pandas as pd\n",
    "import matplotlib.pyplot as plt\n",
    "import seaborn as sns\n",
    "\n",
    "from sklearn.model_selection import train_test_split # für Split Testdaten\n",
    "\n",
    "from sklearn.preprocessing import OneHotEncoder, OrdinalEncoder # Encoding\n",
    "from sklearn.preprocessing import MinMaxScaler, RobustScaler, StandardScaler # für Skalierung numerischer Features\n",
    "\n",
    "from sklearn.compose import make_column_selector # für Spalteneinteilung nominal, ordinal, numerisch\n",
    "\n",
    "from sklearn.linear_model import LinearRegression # für lineare Regression\n",
    "from sklearn.metrics import mean_squared_error, accuracy_score, balanced_accuracy_score, r2_score # Für Modelevaluation\n",
    "\n",
    "from sklearn.linear_model import Ridge # Ridge Model\n",
    "from sklearn.tree import DecisionTreeRegressor # DecisionTree\n",
    "from sklearn.ensemble import RandomForestRegressor # Random Forest\n",
    "\n",
    "from sklearn.impute import SimpleImputer # preprocessing pipeline\n",
    "from sklearn.compose import ColumnTransformer # preprocessing pipeline\n",
    "from sklearn.pipeline import make_pipeline # pipeline\n",
    "\n",
    "from sklearn.ensemble import GradientBoostingRegressor # Gradient Booster\n",
    "from sklearn.svm import SVC  # (S)upport (V)ector (C)lassifier"
   ]
  },
  {
   "cell_type": "markdown",
   "metadata": {},
   "source": [
    "# Projektziel"
   ]
  },
  {
   "cell_type": "markdown",
   "metadata": {},
   "source": [
    "Ziel dieses Projekts ist es, anhand von einer Reihe von Kenngrößen den Verkaufswert von Gebrauchtfahrzeugen in Großbritannien mit einem geeigneten Machine Learning Modell vorherzusagen. Grundlage für die Vorhersage ist der Datensatz 100000 UK Used Car Dataset, der unter Kaggle öﬀentlich verfügbar ist: 100000 UK Used Car Dataset.\n",
    "\n",
    "__Der Datensatz__\n",
    "\n",
    "Der Datensatz enthält 13 csv-Dateien: \n",
    "1. audi\n",
    "2. bmw\n",
    "3. ford\n",
    "4. hyundi\n",
    "5. merc\n",
    "6. skoda\n",
    "7. toyota\n",
    "8. vauxhall\n",
    "9. vw\n",
    "10. cclass\n",
    "11. focus\n",
    "12. unclean cclass\n",
    "13. unclean focus\n",
    "\n",
    "Die ersten neun Datensätze ennthalten folgende Spalten Features: \n",
    "+ model (Automodel)\n",
    "+ year (Registrierungsjahr)\n",
    "+ price (Preis in englischen Pfund)\n",
    "+ transmission (Art der Gangschaltung)\n",
    "+ mileage (Kilometerstand)\n",
    "+ fuelType(Treibstoff)\n",
    "+ tax (Kfz-Steuer)\n",
    "+ mpg (Miles per gallon - Verbrauch)\n",
    "+ engineSize (Motorgröße in Litern)\n",
    "\n",
    "Die Datensätze die letzen vier Datensätze enthalten dieselben Feature jedoch ohne tax und mpgSize. <br>\n",
    "Die Datensätze \"unclean cclass\" und \"unclean focus\" enthalten zusätzlich die Features mileage2, fueltype2, enginesize2.\n",
    "\n",
    "Die Datensätze \"cclass\" und \"focus\" werden im Weiteren nicht verwendet, da sie als einzelenes Model Teilmengen der Datensätze \"merc\" und \"ford\" darstellen.\n",
    "\n",
    "Die Datensätze \"unclean_cclass\" und \"unclean_focus\" werden an ebensowenig betrachtet, da der Datenbereinigungsprozess in dem nötigen Umfang nicht Hauptfokus der Aufgabenstellun ist. "
   ]
  },
  {
   "cell_type": "markdown",
   "metadata": {},
   "source": [
    "# Daten kennen lernen am Beispiel des Audi Datensatzes"
   ]
  },
  {
   "cell_type": "markdown",
   "metadata": {},
   "source": [
    "Mein erster Schritt ist, sich den Datensatz von Audi genauer anzuschauen und ein Baseline Model zu trainieren, um ein erstes Gefühl für die Daten zu erhalten. "
   ]
  },
  {
   "cell_type": "code",
   "execution_count": 4,
   "metadata": {},
   "outputs": [
    {
     "name": "stderr",
     "output_type": "stream",
     "text": [
      "C:\\Users\\Mitja\\anaconda3\\lib\\site-packages\\pandas\\core\\internals\\managers.py:226: RuntimeWarning: divide by zero encountered in equal\n",
      "  if (new_blknos == -1).any():\n",
      "C:\\Users\\Mitja\\anaconda3\\lib\\site-packages\\numpy\\core\\_methods.py:45: RuntimeWarning: divide by zero encountered in reduce\n",
      "  return umr_any(a, axis, dtype, out, keepdims)\n",
      "C:\\Users\\Mitja\\anaconda3\\lib\\site-packages\\numpy\\core\\_methods.py:45: RuntimeWarning: divide by zero encountered in reduce\n",
      "  return umr_any(a, axis, dtype, out, keepdims)\n",
      "C:\\Users\\Mitja\\anaconda3\\lib\\site-packages\\pandas\\core\\dtypes\\missing.py:387: RuntimeWarning: divide by zero encountered in invert\n",
      "  return ~res\n",
      "C:\\Users\\Mitja\\anaconda3\\lib\\site-packages\\pandas\\io\\formats\\format.py:1250: RuntimeWarning: divide by zero encountered in bitwise_and\n",
      "  is_float_type = lib.map_infer(vals, is_float) & notna(vals)\n",
      "C:\\Users\\Mitja\\anaconda3\\lib\\site-packages\\pandas\\core\\dtypes\\missing.py:262: RuntimeWarning: divide by zero encountered in isnan\n",
      "  result = np.isnan(values)\n",
      "C:\\Users\\Mitja\\anaconda3\\lib\\site-packages\\pandas\\io\\formats\\format.py:1373: RuntimeWarning: divide by zero encountered in invert\n",
      "  imask = (~mask).ravel()\n",
      "C:\\Users\\Mitja\\anaconda3\\lib\\site-packages\\pandas\\io\\formats\\format.py:1416: RuntimeWarning: divide by zero encountered in absolute\n",
      "  abs_vals = np.abs(self.values)\n",
      "C:\\Users\\Mitja\\anaconda3\\lib\\site-packages\\pandas\\io\\formats\\format.py:1420: RuntimeWarning: divide by zero encountered in greater\n",
      "  has_large_values = (abs_vals > 1e6).any()\n",
      "C:\\Users\\Mitja\\anaconda3\\lib\\site-packages\\pandas\\io\\formats\\format.py:1422: RuntimeWarning: divide by zero encountered in less\n",
      "  (abs_vals < 10 ** (-self.digits)) & (abs_vals > 0)\n",
      "C:\\Users\\Mitja\\anaconda3\\lib\\site-packages\\pandas\\io\\formats\\format.py:1422: RuntimeWarning: divide by zero encountered in greater\n",
      "  (abs_vals < 10 ** (-self.digits)) & (abs_vals > 0)\n",
      "C:\\Users\\Mitja\\anaconda3\\lib\\site-packages\\pandas\\io\\formats\\format.py:1422: RuntimeWarning: divide by zero encountered in bitwise_and\n",
      "  (abs_vals < 10 ** (-self.digits)) & (abs_vals > 0)\n",
      "C:\\Users\\Mitja\\anaconda3\\lib\\site-packages\\numpy\\core\\_methods.py:30: RuntimeWarning: divide by zero encountered in reduce\n",
      "  return umr_maximum(a, axis, None, out, keepdims, initial, where)\n",
      "C:\\Users\\Mitja\\anaconda3\\lib\\site-packages\\pandas\\io\\formats\\format.py:876: RuntimeWarning: divide by zero encountered in long_scalars\n",
      "  lwidth -= np.array([self.adj.len(x) for x in idx]).max() + adjoin_width\n",
      "C:\\Users\\Mitja\\anaconda3\\lib\\site-packages\\pandas\\io\\formats\\format.py:1923: RuntimeWarning: divide by zero encountered in long_scalars\n",
      "  w_adjoined = w + adjoin_width\n",
      "C:\\Users\\Mitja\\anaconda3\\lib\\site-packages\\pandas\\io\\formats\\format.py:1924: RuntimeWarning: divide by zero encountered in long_scalars\n",
      "  curr_width += w_adjoined\n",
      "C:\\Users\\Mitja\\anaconda3\\lib\\site-packages\\pandas\\io\\formats\\format.py:1928: RuntimeWarning: divide by zero encountered in long_scalars\n",
      "  wrap = curr_width + 2 > line_width and i > 0\n",
      "C:\\Users\\Mitja\\anaconda3\\lib\\site-packages\\pandas\\io\\formats\\format.py:1926: RuntimeWarning: divide by zero encountered in long_scalars\n",
      "  wrap = curr_width + 1 > line_width and i > 0\n",
      "C:\\Users\\Mitja\\anaconda3\\lib\\site-packages\\numpy\\core\\_methods.py:45: RuntimeWarning: divide by zero encountered in reduce\n",
      "  return umr_any(a, axis, dtype, out, keepdims)\n",
      "C:\\Users\\Mitja\\anaconda3\\lib\\site-packages\\pandas\\core\\dtypes\\missing.py:387: RuntimeWarning: divide by zero encountered in invert\n",
      "  return ~res\n",
      "C:\\Users\\Mitja\\anaconda3\\lib\\site-packages\\pandas\\io\\formats\\format.py:1250: RuntimeWarning: divide by zero encountered in bitwise_and\n",
      "  is_float_type = lib.map_infer(vals, is_float) & notna(vals)\n",
      "C:\\Users\\Mitja\\anaconda3\\lib\\site-packages\\pandas\\core\\dtypes\\missing.py:262: RuntimeWarning: divide by zero encountered in isnan\n",
      "  result = np.isnan(values)\n",
      "C:\\Users\\Mitja\\anaconda3\\lib\\site-packages\\pandas\\io\\formats\\format.py:1373: RuntimeWarning: divide by zero encountered in invert\n",
      "  imask = (~mask).ravel()\n",
      "C:\\Users\\Mitja\\anaconda3\\lib\\site-packages\\pandas\\io\\formats\\format.py:1416: RuntimeWarning: divide by zero encountered in absolute\n",
      "  abs_vals = np.abs(self.values)\n",
      "C:\\Users\\Mitja\\anaconda3\\lib\\site-packages\\pandas\\io\\formats\\format.py:1420: RuntimeWarning: divide by zero encountered in greater\n",
      "  has_large_values = (abs_vals > 1e6).any()\n",
      "C:\\Users\\Mitja\\anaconda3\\lib\\site-packages\\pandas\\io\\formats\\format.py:1422: RuntimeWarning: divide by zero encountered in less\n",
      "  (abs_vals < 10 ** (-self.digits)) & (abs_vals > 0)\n",
      "C:\\Users\\Mitja\\anaconda3\\lib\\site-packages\\pandas\\io\\formats\\format.py:1422: RuntimeWarning: divide by zero encountered in greater\n",
      "  (abs_vals < 10 ** (-self.digits)) & (abs_vals > 0)\n",
      "C:\\Users\\Mitja\\anaconda3\\lib\\site-packages\\pandas\\io\\formats\\format.py:1422: RuntimeWarning: divide by zero encountered in bitwise_and\n",
      "  (abs_vals < 10 ** (-self.digits)) & (abs_vals > 0)\n"
     ]
    },
    {
     "data": {
      "text/html": [
       "<div>\n",
       "<style scoped>\n",
       "    .dataframe tbody tr th:only-of-type {\n",
       "        vertical-align: middle;\n",
       "    }\n",
       "\n",
       "    .dataframe tbody tr th {\n",
       "        vertical-align: top;\n",
       "    }\n",
       "\n",
       "    .dataframe thead th {\n",
       "        text-align: right;\n",
       "    }\n",
       "</style>\n",
       "<table border=\"1\" class=\"dataframe\">\n",
       "  <thead>\n",
       "    <tr style=\"text-align: right;\">\n",
       "      <th></th>\n",
       "      <th>model</th>\n",
       "      <th>year</th>\n",
       "      <th>price</th>\n",
       "      <th>transmission</th>\n",
       "      <th>mileage</th>\n",
       "      <th>fuelType</th>\n",
       "      <th>tax</th>\n",
       "      <th>mpg</th>\n",
       "      <th>engineSize</th>\n",
       "    </tr>\n",
       "  </thead>\n",
       "  <tbody>\n",
       "    <tr>\n",
       "      <th>0</th>\n",
       "      <td>A1</td>\n",
       "      <td>2017</td>\n",
       "      <td>12500</td>\n",
       "      <td>Manual</td>\n",
       "      <td>15735</td>\n",
       "      <td>Petrol</td>\n",
       "      <td>150</td>\n",
       "      <td>55.4</td>\n",
       "      <td>1.4</td>\n",
       "    </tr>\n",
       "    <tr>\n",
       "      <th>1</th>\n",
       "      <td>A6</td>\n",
       "      <td>2016</td>\n",
       "      <td>16500</td>\n",
       "      <td>Automatic</td>\n",
       "      <td>36203</td>\n",
       "      <td>Diesel</td>\n",
       "      <td>20</td>\n",
       "      <td>64.2</td>\n",
       "      <td>2.0</td>\n",
       "    </tr>\n",
       "    <tr>\n",
       "      <th>2</th>\n",
       "      <td>A1</td>\n",
       "      <td>2016</td>\n",
       "      <td>11000</td>\n",
       "      <td>Manual</td>\n",
       "      <td>29946</td>\n",
       "      <td>Petrol</td>\n",
       "      <td>30</td>\n",
       "      <td>55.4</td>\n",
       "      <td>1.4</td>\n",
       "    </tr>\n",
       "    <tr>\n",
       "      <th>3</th>\n",
       "      <td>A4</td>\n",
       "      <td>2017</td>\n",
       "      <td>16800</td>\n",
       "      <td>Automatic</td>\n",
       "      <td>25952</td>\n",
       "      <td>Diesel</td>\n",
       "      <td>145</td>\n",
       "      <td>67.3</td>\n",
       "      <td>2.0</td>\n",
       "    </tr>\n",
       "    <tr>\n",
       "      <th>4</th>\n",
       "      <td>A3</td>\n",
       "      <td>2019</td>\n",
       "      <td>17300</td>\n",
       "      <td>Manual</td>\n",
       "      <td>1998</td>\n",
       "      <td>Petrol</td>\n",
       "      <td>145</td>\n",
       "      <td>49.6</td>\n",
       "      <td>1.0</td>\n",
       "    </tr>\n",
       "  </tbody>\n",
       "</table>\n",
       "</div>"
      ],
      "text/plain": [
       "  model  year  price transmission  mileage fuelType  tax   mpg  engineSize\n",
       "0    A1  2017  12500       Manual    15735   Petrol  150  55.4         1.4\n",
       "1    A6  2016  16500    Automatic    36203   Diesel   20  64.2         2.0\n",
       "2    A1  2016  11000       Manual    29946   Petrol   30  55.4         1.4\n",
       "3    A4  2017  16800    Automatic    25952   Diesel  145  67.3         2.0\n",
       "4    A3  2019  17300       Manual     1998   Petrol  145  49.6         1.0"
      ]
     },
     "execution_count": 4,
     "metadata": {},
     "output_type": "execute_result"
    }
   ],
   "source": [
    "data_audi = pd.read_csv(\"audi.csv\", sep=\",\")\n",
    "data_audi.head(5)"
   ]
  },
  {
   "cell_type": "code",
   "execution_count": 3,
   "metadata": {},
   "outputs": [],
   "source": [
    "# Datensatz aufteilen\n",
    "\n",
    "df_train_audi, df_test_audi = train_test_split(data_audi, train_size=0.8)"
   ]
  },
  {
   "cell_type": "code",
   "execution_count": 4,
   "metadata": {},
   "outputs": [
    {
     "name": "stdout",
     "output_type": "stream",
     "text": [
      "<class 'pandas.core.frame.DataFrame'>\n",
      "Int64Index: 8534 entries, 7913 to 4721\n",
      "Data columns (total 9 columns):\n",
      " #   Column        Non-Null Count  Dtype  \n",
      "---  ------        --------------  -----  \n",
      " 0   model         8534 non-null   object \n",
      " 1   year          8534 non-null   int64  \n",
      " 2   price         8534 non-null   int64  \n",
      " 3   transmission  8534 non-null   object \n",
      " 4   mileage       8534 non-null   int64  \n",
      " 5   fuelType      8534 non-null   object \n",
      " 6   tax           8534 non-null   int64  \n",
      " 7   mpg           8534 non-null   float64\n",
      " 8   engineSize    8534 non-null   float64\n",
      "dtypes: float64(2), int64(4), object(3)\n",
      "memory usage: 666.7+ KB\n"
     ]
    }
   ],
   "source": [
    "df_train_audi.info()\n",
    "\n",
    "# keine Null-Werte enthalten"
   ]
  },
  {
   "cell_type": "code",
   "execution_count": 5,
   "metadata": {},
   "outputs": [
    {
     "data": {
      "text/plain": [
       "array(['Manual', 'Automatic', 'Semi-Auto'], dtype=object)"
      ]
     },
     "execution_count": 5,
     "metadata": {},
     "output_type": "execute_result"
    }
   ],
   "source": [
    "# Ausprägungen Transmission\n",
    "\n",
    "df_train_audi[\"transmission\"].unique()"
   ]
  },
  {
   "cell_type": "code",
   "execution_count": 6,
   "metadata": {},
   "outputs": [
    {
     "data": {
      "text/plain": [
       "array(['Diesel', 'Petrol', 'Hybrid'], dtype=object)"
      ]
     },
     "execution_count": 6,
     "metadata": {},
     "output_type": "execute_result"
    }
   ],
   "source": [
    "# Ausprägung fueltype\n",
    "\n",
    "df_train_audi[\"fuelType\"].unique()"
   ]
  },
  {
   "cell_type": "code",
   "execution_count": 7,
   "metadata": {},
   "outputs": [
    {
     "data": {
      "text/plain": [
       "count      8534.000000\n",
       "mean      22792.781580\n",
       "std       11492.521096\n",
       "min        1699.000000\n",
       "25%       15250.000000\n",
       "50%       20000.000000\n",
       "75%       27990.000000\n",
       "max      145000.000000\n",
       "Name: price, dtype: float64"
      ]
     },
     "execution_count": 7,
     "metadata": {},
     "output_type": "execute_result"
    }
   ],
   "source": [
    "# Zielvariable\n",
    "\n",
    "df_train_audi[\"price\"].describe()"
   ]
  },
  {
   "cell_type": "code",
   "execution_count": 8,
   "metadata": {},
   "outputs": [
    {
     "data": {
      "text/plain": [
       "<seaborn.axisgrid.FacetGrid at 0x1ade6258460>"
      ]
     },
     "execution_count": 8,
     "metadata": {},
     "output_type": "execute_result"
    },
    {
     "data": {
      "image/png": "[encoded data removed]",
      "text/plain": [
       "<Figure size 360x360 with 1 Axes>"
      ]
     },
     "metadata": {
      "needs_background": "light"
     },
     "output_type": "display_data"
    }
   ],
   "source": [
    "sns.displot(df_train_audi[\"price\"])"
   ]
  },
  {
   "cell_type": "markdown",
   "metadata": {},
   "source": [
    "## Korrelationen mit Zielvariable"
   ]
  },
  {
   "cell_type": "code",
   "execution_count": 9,
   "metadata": {},
   "outputs": [
    {
     "name": "stdout",
     "output_type": "stream",
     "text": [
      "<class 'pandas.core.frame.DataFrame'>\n",
      "Int64Index: 8534 entries, 7913 to 4721\n",
      "Data columns (total 9 columns):\n",
      " #   Column        Non-Null Count  Dtype  \n",
      "---  ------        --------------  -----  \n",
      " 0   model         8534 non-null   object \n",
      " 1   year          8534 non-null   int64  \n",
      " 2   price         8534 non-null   int64  \n",
      " 3   transmission  8534 non-null   object \n",
      " 4   mileage       8534 non-null   int64  \n",
      " 5   fuelType      8534 non-null   object \n",
      " 6   tax           8534 non-null   int64  \n",
      " 7   mpg           8534 non-null   float64\n",
      " 8   engineSize    8534 non-null   float64\n",
      "dtypes: float64(2), int64(4), object(3)\n",
      "memory usage: 666.7+ KB\n"
     ]
    }
   ],
   "source": [
    "df_train_audi.info()"
   ]
  },
  {
   "cell_type": "markdown",
   "metadata": {},
   "source": [
    "### numerische Variablen"
   ]
  },
  {
   "cell_type": "code",
   "execution_count": 10,
   "metadata": {},
   "outputs": [
    {
     "data": {
      "image/png": "[encoded data removed]",
      "text/plain": [
       "<Figure size 1152x1440 with 5 Axes>"
      ]
     },
     "metadata": {
      "needs_background": "light"
     },
     "output_type": "display_data"
    }
   ],
   "source": [
    "plt.figure(figsize=(16, 20))\n",
    "\n",
    "# Der Befehl `plt.subplot` erlaubt mehrere Plots in einer Figure zu kombinieren.\n",
    "# Dazu kann als Kurzschreibweise eine dreistellige Zahl als Argument übergeben werden.\n",
    "# Diese müssen das Gitter der Subplots beschreiben und die Identifikationsnummer des aktuellen\n",
    "# Plots beschreiben. Hier:\n",
    "\n",
    "# 122 --> 1 Zeile, 2 Spalten, 2. Plot\n",
    "plt.subplot(321)\n",
    "plt.scatter(df_train_audi.iloc[:, 1], df_train_audi.iloc[:, 2], c=\"blue\", s=6)\n",
    "plt.xlabel(\"year\")\n",
    "plt.ylabel(\"price\")\n",
    "\n",
    "plt.subplot(322)\n",
    "plt.scatter(df_train_audi.iloc[:, 4], df_train_audi.iloc[:, 2], c=\"blue\", s=6)\n",
    "plt.xlabel(\"mileage\")\n",
    "plt.ylabel(\"price\")\n",
    "\n",
    "plt.subplot(323)\n",
    "plt.scatter(df_train_audi.iloc[:, 6], df_train_audi.iloc[:, 2], c=\"blue\", s=6)\n",
    "plt.xlabel(\"tax\")\n",
    "plt.ylabel(\"price\")\n",
    "\n",
    "plt.subplot(324)\n",
    "plt.scatter(df_train_audi.iloc[:, 7], df_train_audi.iloc[:, 2], c=\"blue\", s=6)\n",
    "plt.xlabel(\"mpg\")\n",
    "plt.ylabel(\"price\")\n",
    "\n",
    "plt.subplot(325)\n",
    "plt.scatter(df_train_audi.iloc[:, 8], df_train_audi.iloc[:, 2], c=\"blue\", s=6)\n",
    "plt.xlabel(\"engineSize\")\n",
    "plt.ylabel(\"price\")\n",
    "\n",
    "plt.show()"
   ]
  },
  {
   "cell_type": "code",
   "execution_count": 11,
   "metadata": {},
   "outputs": [
    {
     "data": {
      "text/plain": [
       "<AxesSubplot:>"
      ]
     },
     "execution_count": 11,
     "metadata": {},
     "output_type": "execute_result"
    },
    {
     "data": {
      "image/png": "[encoded data removed]",
      "text/plain": [
       "<Figure size 1080x576 with 1 Axes>"
      ]
     },
     "metadata": {
      "needs_background": "light"
     },
     "output_type": "display_data"
    }
   ],
   "source": [
    "df_train_numeric = df_train_audi.drop(columns=[\"model\", \"transmission\", \"fuelType\"]).select_dtypes(include=\"number\")\n",
    "\n",
    "plt.figure(figsize=(15, 8))\n",
    "df_train_numeric.boxplot(rot=90)"
   ]
  },
  {
   "cell_type": "markdown",
   "metadata": {},
   "source": [
    "### kategoriale Variablen"
   ]
  },
  {
   "cell_type": "code",
   "execution_count": 12,
   "metadata": {},
   "outputs": [
    {
     "name": "stderr",
     "output_type": "stream",
     "text": [
      "C:\\Users\\Alfa\\anaconda3\\lib\\site-packages\\seaborn\\_decorators.py:36: FutureWarning: Pass the following variables as keyword args: x, y. From version 0.12, the only valid positional argument will be `data`, and passing other arguments without an explicit keyword will result in an error or misinterpretation.\n",
      "  warnings.warn(\n"
     ]
    },
    {
     "data": {
      "text/plain": [
       "<AxesSubplot:xlabel='transmission', ylabel='price'>"
      ]
     },
     "execution_count": 12,
     "metadata": {},
     "output_type": "execute_result"
    },
    {
     "data": {
      "image/png": "[encoded data removed]",
      "text/plain": [
       "<Figure size 432x288 with 1 Axes>"
      ]
     },
     "metadata": {
      "needs_background": "light"
     },
     "output_type": "display_data"
    }
   ],
   "source": [
    "sns.boxplot(df_train_audi.iloc[:, 3], data_audi.iloc[:, 2])"
   ]
  },
  {
   "cell_type": "code",
   "execution_count": 13,
   "metadata": {},
   "outputs": [
    {
     "name": "stderr",
     "output_type": "stream",
     "text": [
      "C:\\Users\\Alfa\\anaconda3\\lib\\site-packages\\seaborn\\_decorators.py:36: FutureWarning: Pass the following variables as keyword args: x, y. From version 0.12, the only valid positional argument will be `data`, and passing other arguments without an explicit keyword will result in an error or misinterpretation.\n",
      "  warnings.warn(\n"
     ]
    },
    {
     "data": {
      "text/plain": [
       "<AxesSubplot:xlabel='fuelType', ylabel='price'>"
      ]
     },
     "execution_count": 13,
     "metadata": {},
     "output_type": "execute_result"
    },
    {
     "data": {
      "image/png": "[encoded data removed]",
      "text/plain": [
       "<Figure size 432x288 with 1 Axes>"
      ]
     },
     "metadata": {
      "needs_background": "light"
     },
     "output_type": "display_data"
    }
   ],
   "source": [
    "sns.boxplot(df_train_audi.iloc[:, 5], data_audi.iloc[:, 2])"
   ]
  },
  {
   "cell_type": "code",
   "execution_count": 14,
   "metadata": {},
   "outputs": [
    {
     "name": "stderr",
     "output_type": "stream",
     "text": [
      "C:\\Users\\Alfa\\anaconda3\\lib\\site-packages\\seaborn\\_decorators.py:36: FutureWarning: Pass the following variables as keyword args: x, y. From version 0.12, the only valid positional argument will be `data`, and passing other arguments without an explicit keyword will result in an error or misinterpretation.\n",
      "  warnings.warn(\n"
     ]
    },
    {
     "data": {
      "text/plain": [
       "<AxesSubplot:xlabel='model', ylabel='price'>"
      ]
     },
     "execution_count": 14,
     "metadata": {},
     "output_type": "execute_result"
    },
    {
     "data": {
      "image/png": "[encoded data removed]",
      "text/plain": [
       "<Figure size 1152x576 with 1 Axes>"
      ]
     },
     "metadata": {
      "needs_background": "light"
     },
     "output_type": "display_data"
    }
   ],
   "source": [
    "plt.figure(figsize=(16,8))\n",
    "sns.boxplot(df_train_audi.iloc[:, 0], data_audi.iloc[:, 2])"
   ]
  },
  {
   "cell_type": "markdown",
   "metadata": {},
   "source": [
    "### Korrelationsmatrix"
   ]
  },
  {
   "cell_type": "code",
   "execution_count": 15,
   "metadata": {},
   "outputs": [
    {
     "data": {
      "image/png": "[encoded data removed]",
      "text/plain": [
       "<Figure size 864x576 with 2 Axes>"
      ]
     },
     "metadata": {
      "needs_background": "light"
     },
     "output_type": "display_data"
    }
   ],
   "source": [
    "corrmat = df_train_audi.corr()\n",
    "\n",
    "fig = plt.figure(figsize=(12, 8))\n",
    "sns.heatmap(corrmat, vmax=0.8, vmin=-0.8, square=True, annot=True);"
   ]
  },
  {
   "cell_type": "code",
   "execution_count": 16,
   "metadata": {},
   "outputs": [
    {
     "data": {
      "text/plain": [
       "price         1.000000\n",
       "mpg           0.596412\n",
       "year          0.595853\n",
       "engineSize    0.581494\n",
       "mileage       0.538913\n",
       "tax           0.350294\n",
       "Name: price, dtype: float64"
      ]
     },
     "execution_count": 16,
     "metadata": {},
     "output_type": "execute_result"
    }
   ],
   "source": [
    "# Schnelle Auswahl der k Features mit der stärksten Korrelation\n",
    "k = 10\n",
    "k_best_features = corrmat[\"price\"].abs().nlargest(k)\n",
    "k_best_features"
   ]
  },
  {
   "cell_type": "markdown",
   "metadata": {},
   "source": [
    "## Trainingsdaten vorbereiten"
   ]
  },
  {
   "cell_type": "markdown",
   "metadata": {},
   "source": [
    "### Nominale Features encoden"
   ]
  },
  {
   "cell_type": "code",
   "execution_count": 17,
   "metadata": {},
   "outputs": [
    {
     "data": {
      "text/plain": [
       "[[' A1',\n",
       "  ' A6',\n",
       "  ' A4',\n",
       "  ' A3',\n",
       "  ' Q3',\n",
       "  ' Q5',\n",
       "  ' A5',\n",
       "  ' S4',\n",
       "  ' Q2',\n",
       "  ' A7',\n",
       "  ' TT',\n",
       "  ' Q7',\n",
       "  ' RS6',\n",
       "  ' RS3',\n",
       "  ' A8',\n",
       "  ' Q8',\n",
       "  ' RS4',\n",
       "  ' RS5',\n",
       "  ' R8',\n",
       "  ' SQ5',\n",
       "  ' S8',\n",
       "  ' SQ7',\n",
       "  ' S3',\n",
       "  ' S5',\n",
       "  ' A2',\n",
       "  ' RS7'],\n",
       " ['Manual', 'Automatic', 'Semi-Auto'],\n",
       " ['Petrol', 'Diesel', 'Hybrid']]"
      ]
     },
     "execution_count": 17,
     "metadata": {},
     "output_type": "execute_result"
    }
   ],
   "source": [
    "nominal_columns = [\"model\", \"transmission\", \"fuelType\"]\n",
    "# Nominale Kategorien können aus den Daten geschlossen werden\n",
    "nominal_categories = [list(data_audi[column].unique()) for column in nominal_columns] \n",
    "nominal_categories"
   ]
  },
  {
   "cell_type": "code",
   "execution_count": 18,
   "metadata": {},
   "outputs": [
    {
     "data": {
      "text/html": [
       "<div>\n",
       "<style scoped>\n",
       "    .dataframe tbody tr th:only-of-type {\n",
       "        vertical-align: middle;\n",
       "    }\n",
       "\n",
       "    .dataframe tbody tr th {\n",
       "        vertical-align: top;\n",
       "    }\n",
       "\n",
       "    .dataframe thead th {\n",
       "        text-align: right;\n",
       "    }\n",
       "</style>\n",
       "<table border=\"1\" class=\"dataframe\">\n",
       "  <thead>\n",
       "    <tr style=\"text-align: right;\">\n",
       "      <th></th>\n",
       "      <th>x0_ A6</th>\n",
       "      <th>x0_ A4</th>\n",
       "      <th>x0_ A3</th>\n",
       "      <th>x0_ Q3</th>\n",
       "      <th>x0_ Q5</th>\n",
       "      <th>x0_ A5</th>\n",
       "      <th>x0_ S4</th>\n",
       "      <th>x0_ Q2</th>\n",
       "      <th>x0_ A7</th>\n",
       "      <th>x0_ TT</th>\n",
       "      <th>...</th>\n",
       "      <th>x1_Automatic</th>\n",
       "      <th>x1_Semi-Auto</th>\n",
       "      <th>x2_Diesel</th>\n",
       "      <th>x2_Hybrid</th>\n",
       "      <th>year</th>\n",
       "      <th>price</th>\n",
       "      <th>mileage</th>\n",
       "      <th>tax</th>\n",
       "      <th>mpg</th>\n",
       "      <th>engineSize</th>\n",
       "    </tr>\n",
       "  </thead>\n",
       "  <tbody>\n",
       "    <tr>\n",
       "      <th>7913</th>\n",
       "      <td>0.0</td>\n",
       "      <td>0.0</td>\n",
       "      <td>0.0</td>\n",
       "      <td>0.0</td>\n",
       "      <td>0.0</td>\n",
       "      <td>0.0</td>\n",
       "      <td>0.0</td>\n",
       "      <td>0.0</td>\n",
       "      <td>0.0</td>\n",
       "      <td>0.0</td>\n",
       "      <td>...</td>\n",
       "      <td>0.0</td>\n",
       "      <td>0.0</td>\n",
       "      <td>1.0</td>\n",
       "      <td>0.0</td>\n",
       "      <td>2014</td>\n",
       "      <td>6490</td>\n",
       "      <td>80000</td>\n",
       "      <td>20</td>\n",
       "      <td>68.9</td>\n",
       "      <td>2.0</td>\n",
       "    </tr>\n",
       "    <tr>\n",
       "      <th>3405</th>\n",
       "      <td>0.0</td>\n",
       "      <td>0.0</td>\n",
       "      <td>0.0</td>\n",
       "      <td>0.0</td>\n",
       "      <td>0.0</td>\n",
       "      <td>0.0</td>\n",
       "      <td>0.0</td>\n",
       "      <td>0.0</td>\n",
       "      <td>0.0</td>\n",
       "      <td>0.0</td>\n",
       "      <td>...</td>\n",
       "      <td>0.0</td>\n",
       "      <td>0.0</td>\n",
       "      <td>0.0</td>\n",
       "      <td>0.0</td>\n",
       "      <td>2013</td>\n",
       "      <td>7783</td>\n",
       "      <td>62331</td>\n",
       "      <td>125</td>\n",
       "      <td>52.3</td>\n",
       "      <td>1.4</td>\n",
       "    </tr>\n",
       "    <tr>\n",
       "      <th>7701</th>\n",
       "      <td>0.0</td>\n",
       "      <td>0.0</td>\n",
       "      <td>0.0</td>\n",
       "      <td>0.0</td>\n",
       "      <td>0.0</td>\n",
       "      <td>0.0</td>\n",
       "      <td>0.0</td>\n",
       "      <td>1.0</td>\n",
       "      <td>0.0</td>\n",
       "      <td>0.0</td>\n",
       "      <td>...</td>\n",
       "      <td>0.0</td>\n",
       "      <td>0.0</td>\n",
       "      <td>1.0</td>\n",
       "      <td>0.0</td>\n",
       "      <td>2019</td>\n",
       "      <td>22444</td>\n",
       "      <td>4000</td>\n",
       "      <td>145</td>\n",
       "      <td>47.9</td>\n",
       "      <td>1.6</td>\n",
       "    </tr>\n",
       "    <tr>\n",
       "      <th>1512</th>\n",
       "      <td>0.0</td>\n",
       "      <td>1.0</td>\n",
       "      <td>0.0</td>\n",
       "      <td>0.0</td>\n",
       "      <td>0.0</td>\n",
       "      <td>0.0</td>\n",
       "      <td>0.0</td>\n",
       "      <td>0.0</td>\n",
       "      <td>0.0</td>\n",
       "      <td>0.0</td>\n",
       "      <td>...</td>\n",
       "      <td>0.0</td>\n",
       "      <td>0.0</td>\n",
       "      <td>1.0</td>\n",
       "      <td>0.0</td>\n",
       "      <td>2017</td>\n",
       "      <td>17444</td>\n",
       "      <td>12000</td>\n",
       "      <td>145</td>\n",
       "      <td>70.6</td>\n",
       "      <td>2.0</td>\n",
       "    </tr>\n",
       "    <tr>\n",
       "      <th>9530</th>\n",
       "      <td>0.0</td>\n",
       "      <td>0.0</td>\n",
       "      <td>0.0</td>\n",
       "      <td>0.0</td>\n",
       "      <td>1.0</td>\n",
       "      <td>0.0</td>\n",
       "      <td>0.0</td>\n",
       "      <td>0.0</td>\n",
       "      <td>0.0</td>\n",
       "      <td>0.0</td>\n",
       "      <td>...</td>\n",
       "      <td>1.0</td>\n",
       "      <td>0.0</td>\n",
       "      <td>1.0</td>\n",
       "      <td>0.0</td>\n",
       "      <td>2019</td>\n",
       "      <td>38490</td>\n",
       "      <td>10200</td>\n",
       "      <td>145</td>\n",
       "      <td>38.2</td>\n",
       "      <td>2.0</td>\n",
       "    </tr>\n",
       "  </tbody>\n",
       "</table>\n",
       "<p>5 rows × 35 columns</p>\n",
       "</div>"
      ],
      "text/plain": [
       "      x0_ A6  x0_ A4  x0_ A3  x0_ Q3  x0_ Q5  x0_ A5  x0_ S4  x0_ Q2  x0_ A7  \\\n",
       "7913     0.0     0.0     0.0     0.0     0.0     0.0     0.0     0.0     0.0   \n",
       "3405     0.0     0.0     0.0     0.0     0.0     0.0     0.0     0.0     0.0   \n",
       "7701     0.0     0.0     0.0     0.0     0.0     0.0     0.0     1.0     0.0   \n",
       "1512     0.0     1.0     0.0     0.0     0.0     0.0     0.0     0.0     0.0   \n",
       "9530     0.0     0.0     0.0     0.0     1.0     0.0     0.0     0.0     0.0   \n",
       "\n",
       "      x0_ TT  ...  x1_Automatic  x1_Semi-Auto  x2_Diesel  x2_Hybrid  year  \\\n",
       "7913     0.0  ...           0.0           0.0        1.0        0.0  2014   \n",
       "3405     0.0  ...           0.0           0.0        0.0        0.0  2013   \n",
       "7701     0.0  ...           0.0           0.0        1.0        0.0  2019   \n",
       "1512     0.0  ...           0.0           0.0        1.0        0.0  2017   \n",
       "9530     0.0  ...           1.0           0.0        1.0        0.0  2019   \n",
       "\n",
       "      price  mileage  tax   mpg  engineSize  \n",
       "7913   6490    80000   20  68.9         2.0  \n",
       "3405   7783    62331  125  52.3         1.4  \n",
       "7701  22444     4000  145  47.9         1.6  \n",
       "1512  17444    12000  145  70.6         2.0  \n",
       "9530  38490    10200  145  38.2         2.0  \n",
       "\n",
       "[5 rows x 35 columns]"
      ]
     },
     "execution_count": 18,
     "metadata": {},
     "output_type": "execute_result"
    }
   ],
   "source": [
    "# ANMERKUNG: im ersten Versuch wurde nicht der drop Parameter beim OneHotEncoder verwendet, was zu unwahrscheinlichen \n",
    "# Werten bei Gewichten und Bias und entsprechend auch beim MSE/RMSE führten. Durch die Einführung des drop Parameters\n",
    "# mit Wert = True konnte das Problem behoben werden\n",
    "# (Reduntante \"letzte\" Spalte der jeweiligen nominalen Variablen wird entfernt)\n",
    "\n",
    "# Encoding-Transformationen instanziieren und fitten\n",
    "nominal_encoder = OneHotEncoder(categories=nominal_categories, sparse=False, drop=\"first\")\n",
    "nominal_encoder.fit(df_train_audi.loc[:, nominal_columns])\n",
    "\n",
    "# Trainingsdaten transformieren\n",
    "X_train_nominal = nominal_encoder.transform(df_train_audi.loc[:, nominal_columns])\n",
    "X_train_nominal = pd.DataFrame(\n",
    "    X_train_nominal,\n",
    "    columns=nominal_encoder.get_feature_names(),\n",
    "    index=df_train_audi.index\n",
    ")\n",
    "\n",
    "df_train_audi= pd.concat((\n",
    "    X_train_nominal,\n",
    "    df_train_audi.drop(columns=nominal_columns)\n",
    "), axis=1)\n",
    "\n",
    "df_train_audi.head(5)"
   ]
  },
  {
   "cell_type": "markdown",
   "metadata": {},
   "source": [
    "### Numerische Features skalieren"
   ]
  },
  {
   "cell_type": "code",
   "execution_count": 19,
   "metadata": {},
   "outputs": [
    {
     "data": {
      "text/html": [
       "<div>\n",
       "<style scoped>\n",
       "    .dataframe tbody tr th:only-of-type {\n",
       "        vertical-align: middle;\n",
       "    }\n",
       "\n",
       "    .dataframe tbody tr th {\n",
       "        vertical-align: top;\n",
       "    }\n",
       "\n",
       "    .dataframe thead th {\n",
       "        text-align: right;\n",
       "    }\n",
       "</style>\n",
       "<table border=\"1\" class=\"dataframe\">\n",
       "  <thead>\n",
       "    <tr style=\"text-align: right;\">\n",
       "      <th></th>\n",
       "      <th>year</th>\n",
       "      <th>mileage</th>\n",
       "      <th>tax</th>\n",
       "      <th>mpg</th>\n",
       "      <th>engineSize</th>\n",
       "    </tr>\n",
       "  </thead>\n",
       "  <tbody>\n",
       "    <tr>\n",
       "      <th>7913</th>\n",
       "      <td>2014</td>\n",
       "      <td>80000</td>\n",
       "      <td>20</td>\n",
       "      <td>68.9</td>\n",
       "      <td>2.0</td>\n",
       "    </tr>\n",
       "    <tr>\n",
       "      <th>3405</th>\n",
       "      <td>2013</td>\n",
       "      <td>62331</td>\n",
       "      <td>125</td>\n",
       "      <td>52.3</td>\n",
       "      <td>1.4</td>\n",
       "    </tr>\n",
       "    <tr>\n",
       "      <th>7701</th>\n",
       "      <td>2019</td>\n",
       "      <td>4000</td>\n",
       "      <td>145</td>\n",
       "      <td>47.9</td>\n",
       "      <td>1.6</td>\n",
       "    </tr>\n",
       "    <tr>\n",
       "      <th>1512</th>\n",
       "      <td>2017</td>\n",
       "      <td>12000</td>\n",
       "      <td>145</td>\n",
       "      <td>70.6</td>\n",
       "      <td>2.0</td>\n",
       "    </tr>\n",
       "    <tr>\n",
       "      <th>9530</th>\n",
       "      <td>2019</td>\n",
       "      <td>10200</td>\n",
       "      <td>145</td>\n",
       "      <td>38.2</td>\n",
       "      <td>2.0</td>\n",
       "    </tr>\n",
       "    <tr>\n",
       "      <th>...</th>\n",
       "      <td>...</td>\n",
       "      <td>...</td>\n",
       "      <td>...</td>\n",
       "      <td>...</td>\n",
       "      <td>...</td>\n",
       "    </tr>\n",
       "    <tr>\n",
       "      <th>6272</th>\n",
       "      <td>2020</td>\n",
       "      <td>2888</td>\n",
       "      <td>150</td>\n",
       "      <td>39.2</td>\n",
       "      <td>1.5</td>\n",
       "    </tr>\n",
       "    <tr>\n",
       "      <th>529</th>\n",
       "      <td>2017</td>\n",
       "      <td>23655</td>\n",
       "      <td>30</td>\n",
       "      <td>55.4</td>\n",
       "      <td>1.4</td>\n",
       "    </tr>\n",
       "    <tr>\n",
       "      <th>4082</th>\n",
       "      <td>2015</td>\n",
       "      <td>22889</td>\n",
       "      <td>125</td>\n",
       "      <td>58.9</td>\n",
       "      <td>2.0</td>\n",
       "    </tr>\n",
       "    <tr>\n",
       "      <th>10093</th>\n",
       "      <td>2012</td>\n",
       "      <td>94366</td>\n",
       "      <td>30</td>\n",
       "      <td>64.2</td>\n",
       "      <td>2.0</td>\n",
       "    </tr>\n",
       "    <tr>\n",
       "      <th>4721</th>\n",
       "      <td>2019</td>\n",
       "      <td>6000</td>\n",
       "      <td>145</td>\n",
       "      <td>47.9</td>\n",
       "      <td>1.0</td>\n",
       "    </tr>\n",
       "  </tbody>\n",
       "</table>\n",
       "<p>8534 rows × 5 columns</p>\n",
       "</div>"
      ],
      "text/plain": [
       "       year  mileage  tax   mpg  engineSize\n",
       "7913   2014    80000   20  68.9         2.0\n",
       "3405   2013    62331  125  52.3         1.4\n",
       "7701   2019     4000  145  47.9         1.6\n",
       "1512   2017    12000  145  70.6         2.0\n",
       "9530   2019    10200  145  38.2         2.0\n",
       "...     ...      ...  ...   ...         ...\n",
       "6272   2020     2888  150  39.2         1.5\n",
       "529    2017    23655   30  55.4         1.4\n",
       "4082   2015    22889  125  58.9         2.0\n",
       "10093  2012    94366   30  64.2         2.0\n",
       "4721   2019     6000  145  47.9         1.0\n",
       "\n",
       "[8534 rows x 5 columns]"
      ]
     },
     "execution_count": 19,
     "metadata": {},
     "output_type": "execute_result"
    }
   ],
   "source": [
    "df_train_numeric = df_train_audi.loc[:, [\"year\", \"mileage\", \"tax\", \"mpg\", \"engineSize\"]]\n",
    "df_train_numeric"
   ]
  },
  {
   "cell_type": "code",
   "execution_count": 20,
   "metadata": {},
   "outputs": [],
   "source": [
    "numeric_selector = make_column_selector(dtype_include=np.number)\n",
    "numeric_columns = numeric_selector(df_train_numeric)"
   ]
  },
  {
   "cell_type": "code",
   "execution_count": 21,
   "metadata": {},
   "outputs": [],
   "source": [
    "scaler = MinMaxScaler()\n",
    "scaler.fit(df_train_audi[numeric_columns])\n",
    "\n",
    "df_train_audi.loc[:, numeric_columns] = scaler.transform(df_train_audi[numeric_columns])"
   ]
  },
  {
   "cell_type": "code",
   "execution_count": 22,
   "metadata": {},
   "outputs": [
    {
     "data": {
      "text/plain": [
       "<AxesSubplot:>"
      ]
     },
     "execution_count": 22,
     "metadata": {},
     "output_type": "execute_result"
    },
    {
     "data": {
      "image/png": "[encoded data removed]",
      "text/plain": [
       "<Figure size 1080x576 with 1 Axes>"
      ]
     },
     "metadata": {
      "needs_background": "light"
     },
     "output_type": "display_data"
    }
   ],
   "source": [
    "# Skalierung überprüfen\n",
    "\n",
    "plt.figure(figsize=(15, 8))\n",
    "df_train_audi[numeric_columns].boxplot(rot=90)"
   ]
  },
  {
   "cell_type": "code",
   "execution_count": 23,
   "metadata": {},
   "outputs": [
    {
     "data": {
      "text/html": [
       "<div>\n",
       "<style scoped>\n",
       "    .dataframe tbody tr th:only-of-type {\n",
       "        vertical-align: middle;\n",
       "    }\n",
       "\n",
       "    .dataframe tbody tr th {\n",
       "        vertical-align: top;\n",
       "    }\n",
       "\n",
       "    .dataframe thead th {\n",
       "        text-align: right;\n",
       "    }\n",
       "</style>\n",
       "<table border=\"1\" class=\"dataframe\">\n",
       "  <thead>\n",
       "    <tr style=\"text-align: right;\">\n",
       "      <th></th>\n",
       "      <th>x0_ A6</th>\n",
       "      <th>x0_ A4</th>\n",
       "      <th>x0_ A3</th>\n",
       "      <th>x0_ Q3</th>\n",
       "      <th>x0_ Q5</th>\n",
       "      <th>x0_ A5</th>\n",
       "      <th>x0_ S4</th>\n",
       "      <th>x0_ Q2</th>\n",
       "      <th>x0_ A7</th>\n",
       "      <th>x0_ TT</th>\n",
       "      <th>...</th>\n",
       "      <th>x1_Automatic</th>\n",
       "      <th>x1_Semi-Auto</th>\n",
       "      <th>x2_Diesel</th>\n",
       "      <th>x2_Hybrid</th>\n",
       "      <th>year</th>\n",
       "      <th>price</th>\n",
       "      <th>mileage</th>\n",
       "      <th>tax</th>\n",
       "      <th>mpg</th>\n",
       "      <th>engineSize</th>\n",
       "    </tr>\n",
       "  </thead>\n",
       "  <tbody>\n",
       "    <tr>\n",
       "      <th>7913</th>\n",
       "      <td>0.0</td>\n",
       "      <td>0.0</td>\n",
       "      <td>0.0</td>\n",
       "      <td>0.0</td>\n",
       "      <td>0.0</td>\n",
       "      <td>0.0</td>\n",
       "      <td>0.0</td>\n",
       "      <td>0.0</td>\n",
       "      <td>0.0</td>\n",
       "      <td>0.0</td>\n",
       "      <td>...</td>\n",
       "      <td>0.0</td>\n",
       "      <td>0.0</td>\n",
       "      <td>1.0</td>\n",
       "      <td>0.0</td>\n",
       "      <td>0.739130</td>\n",
       "      <td>6490</td>\n",
       "      <td>0.247666</td>\n",
       "      <td>0.034483</td>\n",
       "      <td>0.295159</td>\n",
       "      <td>0.317460</td>\n",
       "    </tr>\n",
       "    <tr>\n",
       "      <th>3405</th>\n",
       "      <td>0.0</td>\n",
       "      <td>0.0</td>\n",
       "      <td>0.0</td>\n",
       "      <td>0.0</td>\n",
       "      <td>0.0</td>\n",
       "      <td>0.0</td>\n",
       "      <td>0.0</td>\n",
       "      <td>0.0</td>\n",
       "      <td>0.0</td>\n",
       "      <td>0.0</td>\n",
       "      <td>...</td>\n",
       "      <td>0.0</td>\n",
       "      <td>0.0</td>\n",
       "      <td>0.0</td>\n",
       "      <td>0.0</td>\n",
       "      <td>0.695652</td>\n",
       "      <td>7783</td>\n",
       "      <td>0.192963</td>\n",
       "      <td>0.215517</td>\n",
       "      <td>0.197166</td>\n",
       "      <td>0.222222</td>\n",
       "    </tr>\n",
       "    <tr>\n",
       "      <th>7701</th>\n",
       "      <td>0.0</td>\n",
       "      <td>0.0</td>\n",
       "      <td>0.0</td>\n",
       "      <td>0.0</td>\n",
       "      <td>0.0</td>\n",
       "      <td>0.0</td>\n",
       "      <td>0.0</td>\n",
       "      <td>1.0</td>\n",
       "      <td>0.0</td>\n",
       "      <td>0.0</td>\n",
       "      <td>...</td>\n",
       "      <td>0.0</td>\n",
       "      <td>0.0</td>\n",
       "      <td>1.0</td>\n",
       "      <td>0.0</td>\n",
       "      <td>0.956522</td>\n",
       "      <td>22444</td>\n",
       "      <td>0.012369</td>\n",
       "      <td>0.250000</td>\n",
       "      <td>0.171192</td>\n",
       "      <td>0.253968</td>\n",
       "    </tr>\n",
       "    <tr>\n",
       "      <th>1512</th>\n",
       "      <td>0.0</td>\n",
       "      <td>1.0</td>\n",
       "      <td>0.0</td>\n",
       "      <td>0.0</td>\n",
       "      <td>0.0</td>\n",
       "      <td>0.0</td>\n",
       "      <td>0.0</td>\n",
       "      <td>0.0</td>\n",
       "      <td>0.0</td>\n",
       "      <td>0.0</td>\n",
       "      <td>...</td>\n",
       "      <td>0.0</td>\n",
       "      <td>0.0</td>\n",
       "      <td>1.0</td>\n",
       "      <td>0.0</td>\n",
       "      <td>0.869565</td>\n",
       "      <td>17444</td>\n",
       "      <td>0.037137</td>\n",
       "      <td>0.250000</td>\n",
       "      <td>0.305195</td>\n",
       "      <td>0.317460</td>\n",
       "    </tr>\n",
       "    <tr>\n",
       "      <th>9530</th>\n",
       "      <td>0.0</td>\n",
       "      <td>0.0</td>\n",
       "      <td>0.0</td>\n",
       "      <td>0.0</td>\n",
       "      <td>1.0</td>\n",
       "      <td>0.0</td>\n",
       "      <td>0.0</td>\n",
       "      <td>0.0</td>\n",
       "      <td>0.0</td>\n",
       "      <td>0.0</td>\n",
       "      <td>...</td>\n",
       "      <td>1.0</td>\n",
       "      <td>0.0</td>\n",
       "      <td>1.0</td>\n",
       "      <td>0.0</td>\n",
       "      <td>0.956522</td>\n",
       "      <td>38490</td>\n",
       "      <td>0.031564</td>\n",
       "      <td>0.250000</td>\n",
       "      <td>0.113932</td>\n",
       "      <td>0.317460</td>\n",
       "    </tr>\n",
       "    <tr>\n",
       "      <th>...</th>\n",
       "      <td>...</td>\n",
       "      <td>...</td>\n",
       "      <td>...</td>\n",
       "      <td>...</td>\n",
       "      <td>...</td>\n",
       "      <td>...</td>\n",
       "      <td>...</td>\n",
       "      <td>...</td>\n",
       "      <td>...</td>\n",
       "      <td>...</td>\n",
       "      <td>...</td>\n",
       "      <td>...</td>\n",
       "      <td>...</td>\n",
       "      <td>...</td>\n",
       "      <td>...</td>\n",
       "      <td>...</td>\n",
       "      <td>...</td>\n",
       "      <td>...</td>\n",
       "      <td>...</td>\n",
       "      <td>...</td>\n",
       "      <td>...</td>\n",
       "    </tr>\n",
       "    <tr>\n",
       "      <th>6272</th>\n",
       "      <td>0.0</td>\n",
       "      <td>0.0</td>\n",
       "      <td>0.0</td>\n",
       "      <td>1.0</td>\n",
       "      <td>0.0</td>\n",
       "      <td>0.0</td>\n",
       "      <td>0.0</td>\n",
       "      <td>0.0</td>\n",
       "      <td>0.0</td>\n",
       "      <td>0.0</td>\n",
       "      <td>...</td>\n",
       "      <td>0.0</td>\n",
       "      <td>1.0</td>\n",
       "      <td>0.0</td>\n",
       "      <td>0.0</td>\n",
       "      <td>1.000000</td>\n",
       "      <td>36950</td>\n",
       "      <td>0.008926</td>\n",
       "      <td>0.258621</td>\n",
       "      <td>0.119835</td>\n",
       "      <td>0.238095</td>\n",
       "    </tr>\n",
       "    <tr>\n",
       "      <th>529</th>\n",
       "      <td>0.0</td>\n",
       "      <td>0.0</td>\n",
       "      <td>0.0</td>\n",
       "      <td>0.0</td>\n",
       "      <td>0.0</td>\n",
       "      <td>0.0</td>\n",
       "      <td>0.0</td>\n",
       "      <td>0.0</td>\n",
       "      <td>0.0</td>\n",
       "      <td>0.0</td>\n",
       "      <td>...</td>\n",
       "      <td>0.0</td>\n",
       "      <td>0.0</td>\n",
       "      <td>0.0</td>\n",
       "      <td>0.0</td>\n",
       "      <td>0.869565</td>\n",
       "      <td>14495</td>\n",
       "      <td>0.073221</td>\n",
       "      <td>0.051724</td>\n",
       "      <td>0.215466</td>\n",
       "      <td>0.222222</td>\n",
       "    </tr>\n",
       "    <tr>\n",
       "      <th>4082</th>\n",
       "      <td>0.0</td>\n",
       "      <td>0.0</td>\n",
       "      <td>0.0</td>\n",
       "      <td>0.0</td>\n",
       "      <td>0.0</td>\n",
       "      <td>1.0</td>\n",
       "      <td>0.0</td>\n",
       "      <td>0.0</td>\n",
       "      <td>0.0</td>\n",
       "      <td>0.0</td>\n",
       "      <td>...</td>\n",
       "      <td>0.0</td>\n",
       "      <td>1.0</td>\n",
       "      <td>1.0</td>\n",
       "      <td>0.0</td>\n",
       "      <td>0.782609</td>\n",
       "      <td>16495</td>\n",
       "      <td>0.070849</td>\n",
       "      <td>0.215517</td>\n",
       "      <td>0.236128</td>\n",
       "      <td>0.317460</td>\n",
       "    </tr>\n",
       "    <tr>\n",
       "      <th>10093</th>\n",
       "      <td>0.0</td>\n",
       "      <td>1.0</td>\n",
       "      <td>0.0</td>\n",
       "      <td>0.0</td>\n",
       "      <td>0.0</td>\n",
       "      <td>0.0</td>\n",
       "      <td>0.0</td>\n",
       "      <td>0.0</td>\n",
       "      <td>0.0</td>\n",
       "      <td>0.0</td>\n",
       "      <td>...</td>\n",
       "      <td>0.0</td>\n",
       "      <td>0.0</td>\n",
       "      <td>1.0</td>\n",
       "      <td>0.0</td>\n",
       "      <td>0.652174</td>\n",
       "      <td>7500</td>\n",
       "      <td>0.292144</td>\n",
       "      <td>0.051724</td>\n",
       "      <td>0.267414</td>\n",
       "      <td>0.317460</td>\n",
       "    </tr>\n",
       "    <tr>\n",
       "      <th>4721</th>\n",
       "      <td>0.0</td>\n",
       "      <td>0.0</td>\n",
       "      <td>0.0</td>\n",
       "      <td>0.0</td>\n",
       "      <td>0.0</td>\n",
       "      <td>0.0</td>\n",
       "      <td>0.0</td>\n",
       "      <td>0.0</td>\n",
       "      <td>0.0</td>\n",
       "      <td>0.0</td>\n",
       "      <td>...</td>\n",
       "      <td>0.0</td>\n",
       "      <td>0.0</td>\n",
       "      <td>0.0</td>\n",
       "      <td>0.0</td>\n",
       "      <td>0.956522</td>\n",
       "      <td>21990</td>\n",
       "      <td>0.018561</td>\n",
       "      <td>0.250000</td>\n",
       "      <td>0.171192</td>\n",
       "      <td>0.158730</td>\n",
       "    </tr>\n",
       "  </tbody>\n",
       "</table>\n",
       "<p>8534 rows × 35 columns</p>\n",
       "</div>"
      ],
      "text/plain": [
       "       x0_ A6  x0_ A4  x0_ A3  x0_ Q3  x0_ Q5  x0_ A5  x0_ S4  x0_ Q2  x0_ A7  \\\n",
       "7913      0.0     0.0     0.0     0.0     0.0     0.0     0.0     0.0     0.0   \n",
       "3405      0.0     0.0     0.0     0.0     0.0     0.0     0.0     0.0     0.0   \n",
       "7701      0.0     0.0     0.0     0.0     0.0     0.0     0.0     1.0     0.0   \n",
       "1512      0.0     1.0     0.0     0.0     0.0     0.0     0.0     0.0     0.0   \n",
       "9530      0.0     0.0     0.0     0.0     1.0     0.0     0.0     0.0     0.0   \n",
       "...       ...     ...     ...     ...     ...     ...     ...     ...     ...   \n",
       "6272      0.0     0.0     0.0     1.0     0.0     0.0     0.0     0.0     0.0   \n",
       "529       0.0     0.0     0.0     0.0     0.0     0.0     0.0     0.0     0.0   \n",
       "4082      0.0     0.0     0.0     0.0     0.0     1.0     0.0     0.0     0.0   \n",
       "10093     0.0     1.0     0.0     0.0     0.0     0.0     0.0     0.0     0.0   \n",
       "4721      0.0     0.0     0.0     0.0     0.0     0.0     0.0     0.0     0.0   \n",
       "\n",
       "       x0_ TT  ...  x1_Automatic  x1_Semi-Auto  x2_Diesel  x2_Hybrid  \\\n",
       "7913      0.0  ...           0.0           0.0        1.0        0.0   \n",
       "3405      0.0  ...           0.0           0.0        0.0        0.0   \n",
       "7701      0.0  ...           0.0           0.0        1.0        0.0   \n",
       "1512      0.0  ...           0.0           0.0        1.0        0.0   \n",
       "9530      0.0  ...           1.0           0.0        1.0        0.0   \n",
       "...       ...  ...           ...           ...        ...        ...   \n",
       "6272      0.0  ...           0.0           1.0        0.0        0.0   \n",
       "529       0.0  ...           0.0           0.0        0.0        0.0   \n",
       "4082      0.0  ...           0.0           1.0        1.0        0.0   \n",
       "10093     0.0  ...           0.0           0.0        1.0        0.0   \n",
       "4721      0.0  ...           0.0           0.0        0.0        0.0   \n",
       "\n",
       "           year  price   mileage       tax       mpg  engineSize  \n",
       "7913   0.739130   6490  0.247666  0.034483  0.295159    0.317460  \n",
       "3405   0.695652   7783  0.192963  0.215517  0.197166    0.222222  \n",
       "7701   0.956522  22444  0.012369  0.250000  0.171192    0.253968  \n",
       "1512   0.869565  17444  0.037137  0.250000  0.305195    0.317460  \n",
       "9530   0.956522  38490  0.031564  0.250000  0.113932    0.317460  \n",
       "...         ...    ...       ...       ...       ...         ...  \n",
       "6272   1.000000  36950  0.008926  0.258621  0.119835    0.238095  \n",
       "529    0.869565  14495  0.073221  0.051724  0.215466    0.222222  \n",
       "4082   0.782609  16495  0.070849  0.215517  0.236128    0.317460  \n",
       "10093  0.652174   7500  0.292144  0.051724  0.267414    0.317460  \n",
       "4721   0.956522  21990  0.018561  0.250000  0.171192    0.158730  \n",
       "\n",
       "[8534 rows x 35 columns]"
      ]
     },
     "execution_count": 23,
     "metadata": {},
     "output_type": "execute_result"
    }
   ],
   "source": [
    "df_train_audi"
   ]
  },
  {
   "cell_type": "markdown",
   "metadata": {},
   "source": [
    "## Baseline Modelle "
   ]
  },
  {
   "cell_type": "markdown",
   "metadata": {},
   "source": [
    "### Lineare Regression"
   ]
  },
  {
   "cell_type": "markdown",
   "metadata": {},
   "source": [
    "#### Model trainieren"
   ]
  },
  {
   "cell_type": "code",
   "execution_count": 24,
   "metadata": {},
   "outputs": [
    {
     "data": {
      "text/html": [
       "<div>\n",
       "<style scoped>\n",
       "    .dataframe tbody tr th:only-of-type {\n",
       "        vertical-align: middle;\n",
       "    }\n",
       "\n",
       "    .dataframe tbody tr th {\n",
       "        vertical-align: top;\n",
       "    }\n",
       "\n",
       "    .dataframe thead th {\n",
       "        text-align: right;\n",
       "    }\n",
       "</style>\n",
       "<table border=\"1\" class=\"dataframe\">\n",
       "  <thead>\n",
       "    <tr style=\"text-align: right;\">\n",
       "      <th></th>\n",
       "      <th>x0_ A6</th>\n",
       "      <th>x0_ A4</th>\n",
       "      <th>x0_ A3</th>\n",
       "      <th>x0_ Q3</th>\n",
       "      <th>x0_ Q5</th>\n",
       "      <th>x0_ A5</th>\n",
       "      <th>x0_ S4</th>\n",
       "      <th>x0_ Q2</th>\n",
       "      <th>x0_ A7</th>\n",
       "      <th>x0_ TT</th>\n",
       "      <th>...</th>\n",
       "      <th>x0_ RS7</th>\n",
       "      <th>x1_Automatic</th>\n",
       "      <th>x1_Semi-Auto</th>\n",
       "      <th>x2_Diesel</th>\n",
       "      <th>x2_Hybrid</th>\n",
       "      <th>year</th>\n",
       "      <th>mileage</th>\n",
       "      <th>tax</th>\n",
       "      <th>mpg</th>\n",
       "      <th>engineSize</th>\n",
       "    </tr>\n",
       "  </thead>\n",
       "  <tbody>\n",
       "    <tr>\n",
       "      <th>7913</th>\n",
       "      <td>0.0</td>\n",
       "      <td>0.0</td>\n",
       "      <td>0.0</td>\n",
       "      <td>0.0</td>\n",
       "      <td>0.0</td>\n",
       "      <td>0.0</td>\n",
       "      <td>0.0</td>\n",
       "      <td>0.0</td>\n",
       "      <td>0.0</td>\n",
       "      <td>0.0</td>\n",
       "      <td>...</td>\n",
       "      <td>0.0</td>\n",
       "      <td>0.0</td>\n",
       "      <td>0.0</td>\n",
       "      <td>1.0</td>\n",
       "      <td>0.0</td>\n",
       "      <td>0.739130</td>\n",
       "      <td>0.247666</td>\n",
       "      <td>0.034483</td>\n",
       "      <td>0.295159</td>\n",
       "      <td>0.317460</td>\n",
       "    </tr>\n",
       "    <tr>\n",
       "      <th>3405</th>\n",
       "      <td>0.0</td>\n",
       "      <td>0.0</td>\n",
       "      <td>0.0</td>\n",
       "      <td>0.0</td>\n",
       "      <td>0.0</td>\n",
       "      <td>0.0</td>\n",
       "      <td>0.0</td>\n",
       "      <td>0.0</td>\n",
       "      <td>0.0</td>\n",
       "      <td>0.0</td>\n",
       "      <td>...</td>\n",
       "      <td>0.0</td>\n",
       "      <td>0.0</td>\n",
       "      <td>0.0</td>\n",
       "      <td>0.0</td>\n",
       "      <td>0.0</td>\n",
       "      <td>0.695652</td>\n",
       "      <td>0.192963</td>\n",
       "      <td>0.215517</td>\n",
       "      <td>0.197166</td>\n",
       "      <td>0.222222</td>\n",
       "    </tr>\n",
       "    <tr>\n",
       "      <th>7701</th>\n",
       "      <td>0.0</td>\n",
       "      <td>0.0</td>\n",
       "      <td>0.0</td>\n",
       "      <td>0.0</td>\n",
       "      <td>0.0</td>\n",
       "      <td>0.0</td>\n",
       "      <td>0.0</td>\n",
       "      <td>1.0</td>\n",
       "      <td>0.0</td>\n",
       "      <td>0.0</td>\n",
       "      <td>...</td>\n",
       "      <td>0.0</td>\n",
       "      <td>0.0</td>\n",
       "      <td>0.0</td>\n",
       "      <td>1.0</td>\n",
       "      <td>0.0</td>\n",
       "      <td>0.956522</td>\n",
       "      <td>0.012369</td>\n",
       "      <td>0.250000</td>\n",
       "      <td>0.171192</td>\n",
       "      <td>0.253968</td>\n",
       "    </tr>\n",
       "    <tr>\n",
       "      <th>1512</th>\n",
       "      <td>0.0</td>\n",
       "      <td>1.0</td>\n",
       "      <td>0.0</td>\n",
       "      <td>0.0</td>\n",
       "      <td>0.0</td>\n",
       "      <td>0.0</td>\n",
       "      <td>0.0</td>\n",
       "      <td>0.0</td>\n",
       "      <td>0.0</td>\n",
       "      <td>0.0</td>\n",
       "      <td>...</td>\n",
       "      <td>0.0</td>\n",
       "      <td>0.0</td>\n",
       "      <td>0.0</td>\n",
       "      <td>1.0</td>\n",
       "      <td>0.0</td>\n",
       "      <td>0.869565</td>\n",
       "      <td>0.037137</td>\n",
       "      <td>0.250000</td>\n",
       "      <td>0.305195</td>\n",
       "      <td>0.317460</td>\n",
       "    </tr>\n",
       "    <tr>\n",
       "      <th>9530</th>\n",
       "      <td>0.0</td>\n",
       "      <td>0.0</td>\n",
       "      <td>0.0</td>\n",
       "      <td>0.0</td>\n",
       "      <td>1.0</td>\n",
       "      <td>0.0</td>\n",
       "      <td>0.0</td>\n",
       "      <td>0.0</td>\n",
       "      <td>0.0</td>\n",
       "      <td>0.0</td>\n",
       "      <td>...</td>\n",
       "      <td>0.0</td>\n",
       "      <td>1.0</td>\n",
       "      <td>0.0</td>\n",
       "      <td>1.0</td>\n",
       "      <td>0.0</td>\n",
       "      <td>0.956522</td>\n",
       "      <td>0.031564</td>\n",
       "      <td>0.250000</td>\n",
       "      <td>0.113932</td>\n",
       "      <td>0.317460</td>\n",
       "    </tr>\n",
       "    <tr>\n",
       "      <th>...</th>\n",
       "      <td>...</td>\n",
       "      <td>...</td>\n",
       "      <td>...</td>\n",
       "      <td>...</td>\n",
       "      <td>...</td>\n",
       "      <td>...</td>\n",
       "      <td>...</td>\n",
       "      <td>...</td>\n",
       "      <td>...</td>\n",
       "      <td>...</td>\n",
       "      <td>...</td>\n",
       "      <td>...</td>\n",
       "      <td>...</td>\n",
       "      <td>...</td>\n",
       "      <td>...</td>\n",
       "      <td>...</td>\n",
       "      <td>...</td>\n",
       "      <td>...</td>\n",
       "      <td>...</td>\n",
       "      <td>...</td>\n",
       "      <td>...</td>\n",
       "    </tr>\n",
       "    <tr>\n",
       "      <th>6272</th>\n",
       "      <td>0.0</td>\n",
       "      <td>0.0</td>\n",
       "      <td>0.0</td>\n",
       "      <td>1.0</td>\n",
       "      <td>0.0</td>\n",
       "      <td>0.0</td>\n",
       "      <td>0.0</td>\n",
       "      <td>0.0</td>\n",
       "      <td>0.0</td>\n",
       "      <td>0.0</td>\n",
       "      <td>...</td>\n",
       "      <td>0.0</td>\n",
       "      <td>0.0</td>\n",
       "      <td>1.0</td>\n",
       "      <td>0.0</td>\n",
       "      <td>0.0</td>\n",
       "      <td>1.000000</td>\n",
       "      <td>0.008926</td>\n",
       "      <td>0.258621</td>\n",
       "      <td>0.119835</td>\n",
       "      <td>0.238095</td>\n",
       "    </tr>\n",
       "    <tr>\n",
       "      <th>529</th>\n",
       "      <td>0.0</td>\n",
       "      <td>0.0</td>\n",
       "      <td>0.0</td>\n",
       "      <td>0.0</td>\n",
       "      <td>0.0</td>\n",
       "      <td>0.0</td>\n",
       "      <td>0.0</td>\n",
       "      <td>0.0</td>\n",
       "      <td>0.0</td>\n",
       "      <td>0.0</td>\n",
       "      <td>...</td>\n",
       "      <td>0.0</td>\n",
       "      <td>0.0</td>\n",
       "      <td>0.0</td>\n",
       "      <td>0.0</td>\n",
       "      <td>0.0</td>\n",
       "      <td>0.869565</td>\n",
       "      <td>0.073221</td>\n",
       "      <td>0.051724</td>\n",
       "      <td>0.215466</td>\n",
       "      <td>0.222222</td>\n",
       "    </tr>\n",
       "    <tr>\n",
       "      <th>4082</th>\n",
       "      <td>0.0</td>\n",
       "      <td>0.0</td>\n",
       "      <td>0.0</td>\n",
       "      <td>0.0</td>\n",
       "      <td>0.0</td>\n",
       "      <td>1.0</td>\n",
       "      <td>0.0</td>\n",
       "      <td>0.0</td>\n",
       "      <td>0.0</td>\n",
       "      <td>0.0</td>\n",
       "      <td>...</td>\n",
       "      <td>0.0</td>\n",
       "      <td>0.0</td>\n",
       "      <td>1.0</td>\n",
       "      <td>1.0</td>\n",
       "      <td>0.0</td>\n",
       "      <td>0.782609</td>\n",
       "      <td>0.070849</td>\n",
       "      <td>0.215517</td>\n",
       "      <td>0.236128</td>\n",
       "      <td>0.317460</td>\n",
       "    </tr>\n",
       "    <tr>\n",
       "      <th>10093</th>\n",
       "      <td>0.0</td>\n",
       "      <td>1.0</td>\n",
       "      <td>0.0</td>\n",
       "      <td>0.0</td>\n",
       "      <td>0.0</td>\n",
       "      <td>0.0</td>\n",
       "      <td>0.0</td>\n",
       "      <td>0.0</td>\n",
       "      <td>0.0</td>\n",
       "      <td>0.0</td>\n",
       "      <td>...</td>\n",
       "      <td>0.0</td>\n",
       "      <td>0.0</td>\n",
       "      <td>0.0</td>\n",
       "      <td>1.0</td>\n",
       "      <td>0.0</td>\n",
       "      <td>0.652174</td>\n",
       "      <td>0.292144</td>\n",
       "      <td>0.051724</td>\n",
       "      <td>0.267414</td>\n",
       "      <td>0.317460</td>\n",
       "    </tr>\n",
       "    <tr>\n",
       "      <th>4721</th>\n",
       "      <td>0.0</td>\n",
       "      <td>0.0</td>\n",
       "      <td>0.0</td>\n",
       "      <td>0.0</td>\n",
       "      <td>0.0</td>\n",
       "      <td>0.0</td>\n",
       "      <td>0.0</td>\n",
       "      <td>0.0</td>\n",
       "      <td>0.0</td>\n",
       "      <td>0.0</td>\n",
       "      <td>...</td>\n",
       "      <td>0.0</td>\n",
       "      <td>0.0</td>\n",
       "      <td>0.0</td>\n",
       "      <td>0.0</td>\n",
       "      <td>0.0</td>\n",
       "      <td>0.956522</td>\n",
       "      <td>0.018561</td>\n",
       "      <td>0.250000</td>\n",
       "      <td>0.171192</td>\n",
       "      <td>0.158730</td>\n",
       "    </tr>\n",
       "  </tbody>\n",
       "</table>\n",
       "<p>8534 rows × 34 columns</p>\n",
       "</div>"
      ],
      "text/plain": [
       "       x0_ A6  x0_ A4  x0_ A3  x0_ Q3  x0_ Q5  x0_ A5  x0_ S4  x0_ Q2  x0_ A7  \\\n",
       "7913      0.0     0.0     0.0     0.0     0.0     0.0     0.0     0.0     0.0   \n",
       "3405      0.0     0.0     0.0     0.0     0.0     0.0     0.0     0.0     0.0   \n",
       "7701      0.0     0.0     0.0     0.0     0.0     0.0     0.0     1.0     0.0   \n",
       "1512      0.0     1.0     0.0     0.0     0.0     0.0     0.0     0.0     0.0   \n",
       "9530      0.0     0.0     0.0     0.0     1.0     0.0     0.0     0.0     0.0   \n",
       "...       ...     ...     ...     ...     ...     ...     ...     ...     ...   \n",
       "6272      0.0     0.0     0.0     1.0     0.0     0.0     0.0     0.0     0.0   \n",
       "529       0.0     0.0     0.0     0.0     0.0     0.0     0.0     0.0     0.0   \n",
       "4082      0.0     0.0     0.0     0.0     0.0     1.0     0.0     0.0     0.0   \n",
       "10093     0.0     1.0     0.0     0.0     0.0     0.0     0.0     0.0     0.0   \n",
       "4721      0.0     0.0     0.0     0.0     0.0     0.0     0.0     0.0     0.0   \n",
       "\n",
       "       x0_ TT  ...  x0_ RS7  x1_Automatic  x1_Semi-Auto  x2_Diesel  x2_Hybrid  \\\n",
       "7913      0.0  ...      0.0           0.0           0.0        1.0        0.0   \n",
       "3405      0.0  ...      0.0           0.0           0.0        0.0        0.0   \n",
       "7701      0.0  ...      0.0           0.0           0.0        1.0        0.0   \n",
       "1512      0.0  ...      0.0           0.0           0.0        1.0        0.0   \n",
       "9530      0.0  ...      0.0           1.0           0.0        1.0        0.0   \n",
       "...       ...  ...      ...           ...           ...        ...        ...   \n",
       "6272      0.0  ...      0.0           0.0           1.0        0.0        0.0   \n",
       "529       0.0  ...      0.0           0.0           0.0        0.0        0.0   \n",
       "4082      0.0  ...      0.0           0.0           1.0        1.0        0.0   \n",
       "10093     0.0  ...      0.0           0.0           0.0        1.0        0.0   \n",
       "4721      0.0  ...      0.0           0.0           0.0        0.0        0.0   \n",
       "\n",
       "           year   mileage       tax       mpg  engineSize  \n",
       "7913   0.739130  0.247666  0.034483  0.295159    0.317460  \n",
       "3405   0.695652  0.192963  0.215517  0.197166    0.222222  \n",
       "7701   0.956522  0.012369  0.250000  0.171192    0.253968  \n",
       "1512   0.869565  0.037137  0.250000  0.305195    0.317460  \n",
       "9530   0.956522  0.031564  0.250000  0.113932    0.317460  \n",
       "...         ...       ...       ...       ...         ...  \n",
       "6272   1.000000  0.008926  0.258621  0.119835    0.238095  \n",
       "529    0.869565  0.073221  0.051724  0.215466    0.222222  \n",
       "4082   0.782609  0.070849  0.215517  0.236128    0.317460  \n",
       "10093  0.652174  0.292144  0.051724  0.267414    0.317460  \n",
       "4721   0.956522  0.018561  0.250000  0.171192    0.158730  \n",
       "\n",
       "[8534 rows x 34 columns]"
      ]
     },
     "execution_count": 24,
     "metadata": {},
     "output_type": "execute_result"
    }
   ],
   "source": [
    "# Trainingsdaten aufteilen\n",
    "\n",
    "X_train_1 = df_train_audi.iloc[:,0:-5]\n",
    "X_train_2 = df_train_audi.iloc[:,-4:]\n",
    "X_train_audi = pd.concat([X_train_1, X_train_2], axis=1)\n",
    "y_train_audi = df_train_audi[\"price\"]\n",
    "\n",
    "X_train_audi"
   ]
  },
  {
   "cell_type": "code",
   "execution_count": 25,
   "metadata": {},
   "outputs": [
    {
     "data": {
      "text/plain": [
       "LinearRegression()"
      ]
     },
     "execution_count": 25,
     "metadata": {},
     "output_type": "execute_result"
    }
   ],
   "source": [
    "LinReg_Model = LinearRegression()\n",
    "LinReg_Model.fit(X_train_audi, y_train_audi)"
   ]
  },
  {
   "cell_type": "code",
   "execution_count": 26,
   "metadata": {},
   "outputs": [
    {
     "name": "stdout",
     "output_type": "stream",
     "text": [
      "[  3702.82781077   1766.41852084   1307.63527331   2936.26505372\n",
      "   6983.72805391   3196.08038699   8334.97175104   1382.04130431\n",
      "   5071.47445628   3717.22172895  15148.36410364  27032.49593913\n",
      "   9734.62831369   7858.73837461  24455.3693342   20989.77286008\n",
      "  18956.2828819   59982.09957038  10378.88941374   1162.1760314\n",
      "  20496.09020341   5295.36607821   2215.26866828  19068.25711494\n",
      "  19190.0763782    1488.19797154   1642.96285485    873.68216814\n",
      "  34304.05404872  41563.88065405 -25890.13863559 -16614.8576948\n",
      " -48534.7817231   27442.55071703]\n",
      "-12109.735466169655\n"
     ]
    }
   ],
   "source": [
    "# Koeffizienten untersuchen\n",
    "\n",
    "# Gewichte = Koeffizienten = coef_\n",
    "print(LinReg_Model.coef_)\n",
    "\n",
    "# Bias = Intercept = intercept_\n",
    "print(LinReg_Model.intercept_)"
   ]
  },
  {
   "cell_type": "markdown",
   "metadata": {},
   "source": [
    "#### Testdaten aufbereiten"
   ]
  },
  {
   "cell_type": "code",
   "execution_count": 27,
   "metadata": {},
   "outputs": [
    {
     "data": {
      "text/html": [
       "<div>\n",
       "<style scoped>\n",
       "    .dataframe tbody tr th:only-of-type {\n",
       "        vertical-align: middle;\n",
       "    }\n",
       "\n",
       "    .dataframe tbody tr th {\n",
       "        vertical-align: top;\n",
       "    }\n",
       "\n",
       "    .dataframe thead th {\n",
       "        text-align: right;\n",
       "    }\n",
       "</style>\n",
       "<table border=\"1\" class=\"dataframe\">\n",
       "  <thead>\n",
       "    <tr style=\"text-align: right;\">\n",
       "      <th></th>\n",
       "      <th>model</th>\n",
       "      <th>year</th>\n",
       "      <th>price</th>\n",
       "      <th>transmission</th>\n",
       "      <th>mileage</th>\n",
       "      <th>fuelType</th>\n",
       "      <th>tax</th>\n",
       "      <th>mpg</th>\n",
       "      <th>engineSize</th>\n",
       "    </tr>\n",
       "  </thead>\n",
       "  <tbody>\n",
       "    <tr>\n",
       "      <th>5245</th>\n",
       "      <td>Q5</td>\n",
       "      <td>2020</td>\n",
       "      <td>49990</td>\n",
       "      <td>Semi-Auto</td>\n",
       "      <td>5000</td>\n",
       "      <td>Diesel</td>\n",
       "      <td>145</td>\n",
       "      <td>34.5</td>\n",
       "      <td>3.0</td>\n",
       "    </tr>\n",
       "    <tr>\n",
       "      <th>6260</th>\n",
       "      <td>A4</td>\n",
       "      <td>2018</td>\n",
       "      <td>19750</td>\n",
       "      <td>Semi-Auto</td>\n",
       "      <td>18557</td>\n",
       "      <td>Petrol</td>\n",
       "      <td>145</td>\n",
       "      <td>50.4</td>\n",
       "      <td>1.4</td>\n",
       "    </tr>\n",
       "    <tr>\n",
       "      <th>3111</th>\n",
       "      <td>A1</td>\n",
       "      <td>2016</td>\n",
       "      <td>11602</td>\n",
       "      <td>Manual</td>\n",
       "      <td>24154</td>\n",
       "      <td>Petrol</td>\n",
       "      <td>30</td>\n",
       "      <td>57.6</td>\n",
       "      <td>1.4</td>\n",
       "    </tr>\n",
       "    <tr>\n",
       "      <th>2029</th>\n",
       "      <td>A5</td>\n",
       "      <td>2013</td>\n",
       "      <td>12640</td>\n",
       "      <td>Manual</td>\n",
       "      <td>46022</td>\n",
       "      <td>Diesel</td>\n",
       "      <td>30</td>\n",
       "      <td>60.1</td>\n",
       "      <td>2.0</td>\n",
       "    </tr>\n",
       "    <tr>\n",
       "      <th>8484</th>\n",
       "      <td>A6</td>\n",
       "      <td>2015</td>\n",
       "      <td>19780</td>\n",
       "      <td>Automatic</td>\n",
       "      <td>49373</td>\n",
       "      <td>Diesel</td>\n",
       "      <td>125</td>\n",
       "      <td>61.4</td>\n",
       "      <td>2.0</td>\n",
       "    </tr>\n",
       "  </tbody>\n",
       "</table>\n",
       "</div>"
      ],
      "text/plain": [
       "     model  year  price transmission  mileage fuelType  tax   mpg  engineSize\n",
       "5245    Q5  2020  49990    Semi-Auto     5000   Diesel  145  34.5         3.0\n",
       "6260    A4  2018  19750    Semi-Auto    18557   Petrol  145  50.4         1.4\n",
       "3111    A1  2016  11602       Manual    24154   Petrol   30  57.6         1.4\n",
       "2029    A5  2013  12640       Manual    46022   Diesel   30  60.1         2.0\n",
       "8484    A6  2015  19780    Automatic    49373   Diesel  125  61.4         2.0"
      ]
     },
     "execution_count": 27,
     "metadata": {},
     "output_type": "execute_result"
    }
   ],
   "source": [
    "df_test_audi.head(5)"
   ]
  },
  {
   "cell_type": "code",
   "execution_count": 28,
   "metadata": {},
   "outputs": [
    {
     "data": {
      "text/html": [
       "<div>\n",
       "<style scoped>\n",
       "    .dataframe tbody tr th:only-of-type {\n",
       "        vertical-align: middle;\n",
       "    }\n",
       "\n",
       "    .dataframe tbody tr th {\n",
       "        vertical-align: top;\n",
       "    }\n",
       "\n",
       "    .dataframe thead th {\n",
       "        text-align: right;\n",
       "    }\n",
       "</style>\n",
       "<table border=\"1\" class=\"dataframe\">\n",
       "  <thead>\n",
       "    <tr style=\"text-align: right;\">\n",
       "      <th></th>\n",
       "      <th>x0_ A6</th>\n",
       "      <th>x0_ A4</th>\n",
       "      <th>x0_ A3</th>\n",
       "      <th>x0_ Q3</th>\n",
       "      <th>x0_ Q5</th>\n",
       "      <th>x0_ A5</th>\n",
       "      <th>x0_ S4</th>\n",
       "      <th>x0_ Q2</th>\n",
       "      <th>x0_ A7</th>\n",
       "      <th>x0_ TT</th>\n",
       "      <th>...</th>\n",
       "      <th>x1_Automatic</th>\n",
       "      <th>x1_Semi-Auto</th>\n",
       "      <th>x2_Diesel</th>\n",
       "      <th>x2_Hybrid</th>\n",
       "      <th>year</th>\n",
       "      <th>price</th>\n",
       "      <th>mileage</th>\n",
       "      <th>tax</th>\n",
       "      <th>mpg</th>\n",
       "      <th>engineSize</th>\n",
       "    </tr>\n",
       "  </thead>\n",
       "  <tbody>\n",
       "    <tr>\n",
       "      <th>5245</th>\n",
       "      <td>0.0</td>\n",
       "      <td>0.0</td>\n",
       "      <td>0.0</td>\n",
       "      <td>0.0</td>\n",
       "      <td>1.0</td>\n",
       "      <td>0.0</td>\n",
       "      <td>0.0</td>\n",
       "      <td>0.0</td>\n",
       "      <td>0.0</td>\n",
       "      <td>0.0</td>\n",
       "      <td>...</td>\n",
       "      <td>0.0</td>\n",
       "      <td>1.0</td>\n",
       "      <td>1.0</td>\n",
       "      <td>0.0</td>\n",
       "      <td>2020</td>\n",
       "      <td>49990</td>\n",
       "      <td>5000</td>\n",
       "      <td>145</td>\n",
       "      <td>34.5</td>\n",
       "      <td>3.0</td>\n",
       "    </tr>\n",
       "    <tr>\n",
       "      <th>6260</th>\n",
       "      <td>0.0</td>\n",
       "      <td>1.0</td>\n",
       "      <td>0.0</td>\n",
       "      <td>0.0</td>\n",
       "      <td>0.0</td>\n",
       "      <td>0.0</td>\n",
       "      <td>0.0</td>\n",
       "      <td>0.0</td>\n",
       "      <td>0.0</td>\n",
       "      <td>0.0</td>\n",
       "      <td>...</td>\n",
       "      <td>0.0</td>\n",
       "      <td>1.0</td>\n",
       "      <td>0.0</td>\n",
       "      <td>0.0</td>\n",
       "      <td>2018</td>\n",
       "      <td>19750</td>\n",
       "      <td>18557</td>\n",
       "      <td>145</td>\n",
       "      <td>50.4</td>\n",
       "      <td>1.4</td>\n",
       "    </tr>\n",
       "    <tr>\n",
       "      <th>3111</th>\n",
       "      <td>0.0</td>\n",
       "      <td>0.0</td>\n",
       "      <td>0.0</td>\n",
       "      <td>0.0</td>\n",
       "      <td>0.0</td>\n",
       "      <td>0.0</td>\n",
       "      <td>0.0</td>\n",
       "      <td>0.0</td>\n",
       "      <td>0.0</td>\n",
       "      <td>0.0</td>\n",
       "      <td>...</td>\n",
       "      <td>0.0</td>\n",
       "      <td>0.0</td>\n",
       "      <td>0.0</td>\n",
       "      <td>0.0</td>\n",
       "      <td>2016</td>\n",
       "      <td>11602</td>\n",
       "      <td>24154</td>\n",
       "      <td>30</td>\n",
       "      <td>57.6</td>\n",
       "      <td>1.4</td>\n",
       "    </tr>\n",
       "    <tr>\n",
       "      <th>2029</th>\n",
       "      <td>0.0</td>\n",
       "      <td>0.0</td>\n",
       "      <td>0.0</td>\n",
       "      <td>0.0</td>\n",
       "      <td>0.0</td>\n",
       "      <td>1.0</td>\n",
       "      <td>0.0</td>\n",
       "      <td>0.0</td>\n",
       "      <td>0.0</td>\n",
       "      <td>0.0</td>\n",
       "      <td>...</td>\n",
       "      <td>0.0</td>\n",
       "      <td>0.0</td>\n",
       "      <td>1.0</td>\n",
       "      <td>0.0</td>\n",
       "      <td>2013</td>\n",
       "      <td>12640</td>\n",
       "      <td>46022</td>\n",
       "      <td>30</td>\n",
       "      <td>60.1</td>\n",
       "      <td>2.0</td>\n",
       "    </tr>\n",
       "    <tr>\n",
       "      <th>8484</th>\n",
       "      <td>1.0</td>\n",
       "      <td>0.0</td>\n",
       "      <td>0.0</td>\n",
       "      <td>0.0</td>\n",
       "      <td>0.0</td>\n",
       "      <td>0.0</td>\n",
       "      <td>0.0</td>\n",
       "      <td>0.0</td>\n",
       "      <td>0.0</td>\n",
       "      <td>0.0</td>\n",
       "      <td>...</td>\n",
       "      <td>1.0</td>\n",
       "      <td>0.0</td>\n",
       "      <td>1.0</td>\n",
       "      <td>0.0</td>\n",
       "      <td>2015</td>\n",
       "      <td>19780</td>\n",
       "      <td>49373</td>\n",
       "      <td>125</td>\n",
       "      <td>61.4</td>\n",
       "      <td>2.0</td>\n",
       "    </tr>\n",
       "  </tbody>\n",
       "</table>\n",
       "<p>5 rows × 35 columns</p>\n",
       "</div>"
      ],
      "text/plain": [
       "      x0_ A6  x0_ A4  x0_ A3  x0_ Q3  x0_ Q5  x0_ A5  x0_ S4  x0_ Q2  x0_ A7  \\\n",
       "5245     0.0     0.0     0.0     0.0     1.0     0.0     0.0     0.0     0.0   \n",
       "6260     0.0     1.0     0.0     0.0     0.0     0.0     0.0     0.0     0.0   \n",
       "3111     0.0     0.0     0.0     0.0     0.0     0.0     0.0     0.0     0.0   \n",
       "2029     0.0     0.0     0.0     0.0     0.0     1.0     0.0     0.0     0.0   \n",
       "8484     1.0     0.0     0.0     0.0     0.0     0.0     0.0     0.0     0.0   \n",
       "\n",
       "      x0_ TT  ...  x1_Automatic  x1_Semi-Auto  x2_Diesel  x2_Hybrid  year  \\\n",
       "5245     0.0  ...           0.0           1.0        1.0        0.0  2020   \n",
       "6260     0.0  ...           0.0           1.0        0.0        0.0  2018   \n",
       "3111     0.0  ...           0.0           0.0        0.0        0.0  2016   \n",
       "2029     0.0  ...           0.0           0.0        1.0        0.0  2013   \n",
       "8484     0.0  ...           1.0           0.0        1.0        0.0  2015   \n",
       "\n",
       "      price  mileage  tax   mpg  engineSize  \n",
       "5245  49990     5000  145  34.5         3.0  \n",
       "6260  19750    18557  145  50.4         1.4  \n",
       "3111  11602    24154   30  57.6         1.4  \n",
       "2029  12640    46022   30  60.1         2.0  \n",
       "8484  19780    49373  125  61.4         2.0  \n",
       "\n",
       "[5 rows x 35 columns]"
      ]
     },
     "execution_count": 28,
     "metadata": {},
     "output_type": "execute_result"
    }
   ],
   "source": [
    "# Encoding-Transformationen instanziieren und fitten\n",
    "# nominal_encoder = OneHotEncoder(categories=nominal_categories, sparse=False)\n",
    "# nominal_encoder.fit(df_test_audi.loc[:, nominal_columns])\n",
    "\n",
    "# Trainingsdaten transformieren\n",
    "X_test_nominal = nominal_encoder.transform(df_test_audi.loc[:, nominal_columns])\n",
    "X_test_nominal = pd.DataFrame(\n",
    "    X_test_nominal,\n",
    "    columns=nominal_encoder.get_feature_names(),\n",
    "    index=df_test_audi.index\n",
    ")\n",
    "\n",
    "df_test_audi= pd.concat((\n",
    "    X_test_nominal,\n",
    "    df_test_audi.drop(columns=nominal_columns)\n",
    "), axis=1)\n",
    "\n",
    "\n",
    "df_test_audi.head(5)"
   ]
  },
  {
   "cell_type": "code",
   "execution_count": 29,
   "metadata": {},
   "outputs": [],
   "source": [
    "# Numerische Features skalieren\n",
    "\n",
    "df_test_audi.loc[:, numeric_columns] = scaler.transform(df_test_audi[numeric_columns])"
   ]
  },
  {
   "cell_type": "code",
   "execution_count": 30,
   "metadata": {},
   "outputs": [
    {
     "data": {
      "text/plain": [
       "<AxesSubplot:>"
      ]
     },
     "execution_count": 30,
     "metadata": {},
     "output_type": "execute_result"
    },
    {
     "data": {
      "image/png": "[encoded data removed]",
      "text/plain": [
       "<Figure size 1080x576 with 1 Axes>"
      ]
     },
     "metadata": {
      "needs_background": "light"
     },
     "output_type": "display_data"
    }
   ],
   "source": [
    "# Test durch Viszualisierung\n",
    "\n",
    "plt.figure(figsize=(15, 8))\n",
    "df_test_audi[numeric_columns].boxplot(rot=90)"
   ]
  },
  {
   "cell_type": "code",
   "execution_count": 31,
   "metadata": {},
   "outputs": [],
   "source": [
    "# Daten aufbereiten\n",
    "\n",
    "X_test_1 = df_test_audi.iloc[:,0:-5]\n",
    "X_test_2 = df_test_audi.iloc[:,-4:]\n",
    "X_test_audi = pd.concat([X_test_1, X_test_2], axis=1)\n",
    "y_test_audi = df_test_audi[\"price\"]"
   ]
  },
  {
   "cell_type": "code",
   "execution_count": 32,
   "metadata": {},
   "outputs": [
    {
     "data": {
      "text/plain": [
       "(2134, 34)"
      ]
     },
     "execution_count": 32,
     "metadata": {},
     "output_type": "execute_result"
    }
   ],
   "source": [
    "X_test_audi.shape"
   ]
  },
  {
   "cell_type": "code",
   "execution_count": 33,
   "metadata": {},
   "outputs": [
    {
     "data": {
      "text/plain": [
       "(8534, 34)"
      ]
     },
     "execution_count": 33,
     "metadata": {},
     "output_type": "execute_result"
    }
   ],
   "source": [
    "X_train_audi.shape"
   ]
  },
  {
   "cell_type": "markdown",
   "metadata": {},
   "source": [
    "#### Model evaluieren"
   ]
  },
  {
   "cell_type": "code",
   "execution_count": 34,
   "metadata": {},
   "outputs": [],
   "source": [
    "y_pred_audi_test = LinReg_Model.predict(X_test_audi)\n",
    "y_pred_audi_train = LinReg_Model.predict(X_train_audi)"
   ]
  },
  {
   "cell_type": "code",
   "execution_count": 35,
   "metadata": {},
   "outputs": [
    {
     "name": "stdout",
     "output_type": "stream",
     "text": [
      "MSE_train: 14337394.23849716\n",
      "MSE_test: 17099840.42546585\n",
      "RMSE_train: 3786.47517336337 UK Pfund\n",
      "RMSE_test: 4135.195330992945 UK Pfund\n",
      "r2_score_train:  0.891434833947402\n",
      "r2_score_test:  0.8915345082939724\n"
     ]
    }
   ],
   "source": [
    "mse = mean_squared_error(y_train_audi, y_pred_audi_train)\n",
    "print(\"MSE_train:\", mse)\n",
    "mse = mean_squared_error(y_test_audi, y_pred_audi_test)\n",
    "print(\"MSE_test:\", mse)\n",
    "\n",
    "rmse = mean_squared_error(y_train_audi, y_pred_audi_train, squared=False) \n",
    "print(\"RMSE_train:\", rmse, \"UK Pfund\")\n",
    "rmse = mean_squared_error(y_test_audi, y_pred_audi_test, squared=False) \n",
    "print(\"RMSE_test:\", rmse, \"UK Pfund\")\n",
    "\n",
    "RegressionsKoeffizient = r2_score(y_train_audi, y_pred_audi_train) \n",
    "# Korrelation zwischen y_test und y_pred (Wert zwischen 0 und 1)\n",
    "print(\"r2_score_train: \", RegressionsKoeffizient) # Erstrebenswert wäre hier 0.95\n",
    "RegressionsKoeffizient = r2_score(y_test_audi, y_pred_audi_test) \n",
    "print(\"r2_score_test: \", RegressionsKoeffizient) "
   ]
  },
  {
   "cell_type": "code",
   "execution_count": 36,
   "metadata": {},
   "outputs": [
    {
     "data": {
      "text/plain": [
       "<matplotlib.collections.PathCollection at 0x1ade6bc0a30>"
      ]
     },
     "execution_count": 36,
     "metadata": {},
     "output_type": "execute_result"
    },
    {
     "data": {
      "image/png": "[encoded data removed]",
      "text/plain": [
       "<Figure size 432x288 with 1 Axes>"
      ]
     },
     "metadata": {
      "needs_background": "light"
     },
     "output_type": "display_data"
    }
   ],
   "source": [
    "plt.scatter(y_test_audi, y_pred_audi_test) # stellt Zusammenhang zwischen y_test und y_pred da."
   ]
  },
  {
   "cell_type": "markdown",
   "metadata": {},
   "source": [
    "Die lineare Regression ist numerisch nicht sehr stabil, ebenso beim Encoding. Eine bessere Alternative ist das Ridge Model. DecisionTrees und Randomforests sind ebenso stabiler."
   ]
  },
  {
   "cell_type": "markdown",
   "metadata": {},
   "source": [
    "### Ridge Model"
   ]
  },
  {
   "cell_type": "code",
   "execution_count": 37,
   "metadata": {},
   "outputs": [
    {
     "data": {
      "text/plain": [
       "Ridge(alpha=0.001)"
      ]
     },
     "execution_count": 37,
     "metadata": {},
     "output_type": "execute_result"
    }
   ],
   "source": [
    "ridge_model = Ridge(alpha=0.001)\n",
    "ridge_model.fit(X_train_audi, y_train_audi)"
   ]
  },
  {
   "cell_type": "code",
   "execution_count": 38,
   "metadata": {},
   "outputs": [
    {
     "name": "stdout",
     "output_type": "stream",
     "text": [
      "[  3702.30020429   1765.93122821   1307.31125674   2935.99842104\n",
      "   6983.36491431   3195.53537401   8333.39587317   1381.81504406\n",
      "   5070.55172865   3716.76105512  15147.56236952  27029.98188286\n",
      "   9733.56729548   7857.67822721  24454.46409624  20987.63335209\n",
      "  18954.50793416  59977.15173757  10377.48818229   1160.06115394\n",
      "  20491.33724574   5294.47920098   2213.29315862  19049.32722045\n",
      "  19168.35143304   1488.38199294   1643.03434058    873.33638875\n",
      "  34299.32900964  41564.02890108 -25890.47091671 -16612.85122789\n",
      " -48529.31349278  27445.95512329]\n",
      "-12111.815943825848\n"
     ]
    }
   ],
   "source": [
    "# TODO: Koeffizienten untersuchen\n",
    "\n",
    "# Gewichte = Koeffizienten = coef_\n",
    "print(ridge_model.coef_)\n",
    "\n",
    "# Bias = Intercept = intercept_\n",
    "print(ridge_model.intercept_)"
   ]
  },
  {
   "cell_type": "code",
   "execution_count": 39,
   "metadata": {},
   "outputs": [],
   "source": [
    "# Vorhersage treffen\n",
    "y_pred_audi_train = ridge_model.predict(X_train_audi)\n",
    "y_pred_audi_test = ridge_model.predict(X_test_audi)"
   ]
  },
  {
   "cell_type": "code",
   "execution_count": 40,
   "metadata": {},
   "outputs": [
    {
     "name": "stdout",
     "output_type": "stream",
     "text": [
      "MSE_train: 14337394.446758075\n",
      "MSE_test: 17099966.697731618\n",
      "RMSE_train: 3786.4752008640007 UK Pfund\n",
      "RMSE_test: 4135.210598957642 UK Pfund\n",
      "r2_score_train:  0.8914348323704152\n",
      "r2_score_test:  0.8915337073401006\n"
     ]
    }
   ],
   "source": [
    "# Modell evaluieren\n",
    "\n",
    "mse = mean_squared_error(y_train_audi, y_pred_audi_train)\n",
    "print(\"MSE_train:\", mse)\n",
    "mse = mean_squared_error(y_test_audi, y_pred_audi_test)\n",
    "print(\"MSE_test:\", mse)\n",
    "\n",
    "rmse = mean_squared_error(y_train_audi, y_pred_audi_train, squared=False) \n",
    "print(\"RMSE_train:\", rmse, \"UK Pfund\")\n",
    "rmse = mean_squared_error(y_test_audi, y_pred_audi_test, squared=False) \n",
    "print(\"RMSE_test:\", rmse, \"UK Pfund\")\n",
    "\n",
    "RegressionsKoeffizient = r2_score(y_train_audi, y_pred_audi_train) \n",
    "print(\"r2_score_train: \", RegressionsKoeffizient) \n",
    "RegressionsKoeffizient = r2_score(y_test_audi, y_pred_audi_test) \n",
    "print(\"r2_score_test: \", RegressionsKoeffizient) "
   ]
  },
  {
   "cell_type": "markdown",
   "metadata": {},
   "source": [
    "### DecisionTree"
   ]
  },
  {
   "cell_type": "code",
   "execution_count": 41,
   "metadata": {},
   "outputs": [
    {
     "name": "stdout",
     "output_type": "stream",
     "text": [
      "Train_mse: 5019558.156488779\n",
      "Test_mse: 11967426.810285347\n",
      "Train_rmse: 2240.4370458660023\n",
      "Test_rmse: 3459.3968853378688\n",
      "r2_score_train:  0.9619910594836932\n",
      "r2_score_test:  0.9240897691945488\n"
     ]
    }
   ],
   "source": [
    "# Model trainieren\n",
    "tree = DecisionTreeRegressor(max_depth=10)\n",
    "tree.fit(X_train_audi, y_train_audi)\n",
    "\n",
    "# Model evaluieren\n",
    "y_pred_train = tree.predict(X_train_audi)\n",
    "y_pred_test = tree.predict(X_test_audi)\n",
    "\n",
    "mse_train = mean_squared_error(y_train_audi, y_pred_train)\n",
    "print(\"Train_mse:\", mse_train)\n",
    "mse_test = mean_squared_error(y_test_audi, y_pred_test)\n",
    "print(\"Test_mse:\", mse_test)\n",
    "\n",
    "rmse_train = mean_squared_error(y_train_audi, y_pred_train, squared=False) \n",
    "print(\"Train_rmse:\", rmse_train)\n",
    "rmse_test = mean_squared_error(y_test_audi, y_pred_test, squared=False) \n",
    "print(\"Test_rmse:\", rmse_test)\n",
    "\n",
    "RegressionsKoeffizient = r2_score(y_train_audi, y_pred_train) \n",
    "print(\"r2_score_train: \", RegressionsKoeffizient)\n",
    "RegressionsKoeffizient = r2_score(y_test_audi, y_pred_test) \n",
    "print(\"r2_score_test: \", RegressionsKoeffizient) "
   ]
  },
  {
   "cell_type": "markdown",
   "metadata": {},
   "source": [
    "Bei DecisionTrees besteht jedoch die Gefahr des Overfittings. Daher wird auch noch ein Random Forest verwendet."
   ]
  },
  {
   "cell_type": "markdown",
   "metadata": {},
   "source": [
    "### Random Forest"
   ]
  },
  {
   "cell_type": "code",
   "execution_count": 42,
   "metadata": {},
   "outputs": [
    {
     "name": "stdout",
     "output_type": "stream",
     "text": [
      "Train_mse: 3914713.3437586543\n",
      "Test_mse: 8048785.175675536\n",
      "Train_rmse: 1978.5634545696669\n",
      "Test_rmse: 2837.038099087768\n",
      "r2_score_train:  0.970357130651237\n",
      "r2_score_test:  0.9489459889686632\n"
     ]
    }
   ],
   "source": [
    "# Modell trainieren\n",
    "forest = RandomForestRegressor(\n",
    "    n_estimators=100,  # Anzahl der Bäume. Sinnvolle sind 100, 200, 500, maximal 1000\n",
    "    max_depth=10,  # Tiefe der Bäume\n",
    "    n_jobs=-1,  # Anzahl der Prozessoren, -1 steht für alle vorhandenen\n",
    ")\n",
    "\n",
    "forest.fit(X_train_audi, y_train_audi)\n",
    "\n",
    "# Modell evaluieren\n",
    "y_pred_test = forest.predict(X_test_audi)\n",
    "y_pred_train = forest.predict(X_train_audi)\n",
    "\n",
    "mse_train = mean_squared_error(y_train_audi, y_pred_train)\n",
    "print(\"Train_mse:\", mse_train)\n",
    "mse_test = mean_squared_error(y_test_audi, y_pred_test)\n",
    "print(\"Test_mse:\", mse_test)\n",
    "\n",
    "rmse_train = mean_squared_error(y_train_audi, y_pred_train, squared=False) \n",
    "print(\"Train_rmse:\", rmse_train)\n",
    "rmse_test = mean_squared_error(y_test_audi, y_pred_test, squared=False) \n",
    "print(\"Test_rmse:\", rmse_test)\n",
    "\n",
    "RegressionsKoeffizient = r2_score(y_train_audi, y_pred_train) \n",
    "print(\"r2_score_train: \", RegressionsKoeffizient) \n",
    "RegressionsKoeffizient = r2_score(y_test_audi, y_pred_test) \n",
    "print(\"r2_score_test: \", RegressionsKoeffizient) "
   ]
  },
  {
   "cell_type": "markdown",
   "metadata": {},
   "source": [
    "## Zwischenfazit Audi Datensatz\n",
    "\n",
    "Die Größe des Einflusses auf den Preis je Variable ist wie folgt verteilt: \n",
    "\n",
    "+ price         1.000000\n",
    "+ mpg           0.605814\n",
    "+ engineSize    0.597907\n",
    "+ year          0.589878\n",
    "+ mileage       0.535722\n",
    "+ tax           0.355191\n",
    "\n",
    "Die Audi-Modelle weichen im Preis stark voneinander ab und sollten im Gesamtmodel berücksichtigt werden. \n",
    "\n",
    "Folgende Modelle wurden auf den Audi-Datensatz trainiert: Lineare Regression, Ridge Model, DecisionTree, Random Forest. \n",
    "Alle Modelle liefern einen r2_score und können als Baseline-Modelle verwendet werden. \n",
    "\n",
    "Die besten Ergebnisse liefern der DecisionTree und der Random Forest. Da beim DecisionTree die Gefahr des Overfitting besteht, kann der RandomForrest als bestes Model der verwendeten angesehen werden."
   ]
  },
  {
   "cell_type": "markdown",
   "metadata": {},
   "source": [
    "# Gesamtdatensatz erstellen"
   ]
  },
  {
   "cell_type": "markdown",
   "metadata": {},
   "source": [
    "## Daten laden und vorbereiten"
   ]
  },
  {
   "cell_type": "code",
   "execution_count": 5,
   "metadata": {},
   "outputs": [
    {
     "name": "stderr",
     "output_type": "stream",
     "text": [
      "C:\\Users\\Mitja\\anaconda3\\lib\\site-packages\\pandas\\core\\internals\\managers.py:226: RuntimeWarning: divide by zero encountered in equal\n",
      "  if (new_blknos == -1).any():\n"
     ]
    }
   ],
   "source": [
    "data_audi = pd.read_csv(\"audi.csv\", sep=\",\", skipinitialspace=True)\n",
    "data_bmw = pd.read_csv(\"bmw.csv\", sep=\",\", skipinitialspace=True)\n",
    "data_ford = pd.read_csv(\"ford.csv\", sep=\",\", skipinitialspace=True)\n",
    "data_hyundi = pd.read_csv(\"hyundi.csv\", sep=\",\", skipinitialspace=True)\n",
    "data_merc = pd.read_csv(\"merc.csv\", sep=\",\", skipinitialspace=True)\n",
    "data_skoda = pd.read_csv(\"skoda.csv\", sep=\",\", skipinitialspace=True)\n",
    "data_toyota = pd.read_csv(\"toyota.csv\", sep=\",\", skipinitialspace=True)\n",
    "data_vauxhall = pd.read_csv(\"vauxhall.csv\", sep=\",\", skipinitialspace=True)\n",
    "data_vw = pd.read_csv(\"vw.csv\", sep=\",\", skipinitialspace=True)"
   ]
  },
  {
   "cell_type": "code",
   "execution_count": 6,
   "metadata": {},
   "outputs": [],
   "source": [
    "data_audi[\"brand\"] = \"Audi\"\n",
    "data_bmw[\"brand\"] = \"BMW\"\n",
    "data_ford[\"brand\"] = \"Ford\"\n",
    "data_hyundi[\"brand\"] = \"Hyundi\"\n",
    "data_merc[\"brand\"] = \"Mercedes\"\n",
    "data_skoda[\"brand\"] = \"Skoda\"\n",
    "data_toyota[\"brand\"] = \"Toyota\"\n",
    "data_vauxhall[\"brand\"] = \"Vauxhall\"\n",
    "data_vw[\"brand\"] = \"VW\""
   ]
  },
  {
   "cell_type": "code",
   "execution_count": 7,
   "metadata": {},
   "outputs": [
    {
     "name": "stderr",
     "output_type": "stream",
     "text": [
      "C:\\Users\\Mitja\\anaconda3\\lib\\site-packages\\numpy\\core\\_methods.py:45: RuntimeWarning: divide by zero encountered in reduce\n",
      "  return umr_any(a, axis, dtype, out, keepdims)\n",
      "C:\\Users\\Mitja\\anaconda3\\lib\\site-packages\\pandas\\core\\dtypes\\missing.py:387: RuntimeWarning: divide by zero encountered in invert\n",
      "  return ~res\n",
      "C:\\Users\\Mitja\\anaconda3\\lib\\site-packages\\pandas\\io\\formats\\format.py:1250: RuntimeWarning: divide by zero encountered in bitwise_and\n",
      "  is_float_type = lib.map_infer(vals, is_float) & notna(vals)\n",
      "C:\\Users\\Mitja\\anaconda3\\lib\\site-packages\\pandas\\core\\dtypes\\missing.py:262: RuntimeWarning: divide by zero encountered in isnan\n",
      "  result = np.isnan(values)\n",
      "C:\\Users\\Mitja\\anaconda3\\lib\\site-packages\\pandas\\io\\formats\\format.py:1373: RuntimeWarning: divide by zero encountered in invert\n",
      "  imask = (~mask).ravel()\n",
      "C:\\Users\\Mitja\\anaconda3\\lib\\site-packages\\pandas\\io\\formats\\format.py:1416: RuntimeWarning: divide by zero encountered in absolute\n",
      "  abs_vals = np.abs(self.values)\n",
      "C:\\Users\\Mitja\\anaconda3\\lib\\site-packages\\pandas\\io\\formats\\format.py:1420: RuntimeWarning: divide by zero encountered in greater\n",
      "  has_large_values = (abs_vals > 1e6).any()\n",
      "C:\\Users\\Mitja\\anaconda3\\lib\\site-packages\\pandas\\io\\formats\\format.py:1422: RuntimeWarning: divide by zero encountered in less\n",
      "  (abs_vals < 10 ** (-self.digits)) & (abs_vals > 0)\n",
      "C:\\Users\\Mitja\\anaconda3\\lib\\site-packages\\pandas\\io\\formats\\format.py:1422: RuntimeWarning: divide by zero encountered in greater\n",
      "  (abs_vals < 10 ** (-self.digits)) & (abs_vals > 0)\n",
      "C:\\Users\\Mitja\\anaconda3\\lib\\site-packages\\pandas\\io\\formats\\format.py:1422: RuntimeWarning: divide by zero encountered in bitwise_and\n",
      "  (abs_vals < 10 ** (-self.digits)) & (abs_vals > 0)\n",
      "C:\\Users\\Mitja\\anaconda3\\lib\\site-packages\\numpy\\core\\_methods.py:30: RuntimeWarning: divide by zero encountered in reduce\n",
      "  return umr_maximum(a, axis, None, out, keepdims, initial, where)\n",
      "C:\\Users\\Mitja\\anaconda3\\lib\\site-packages\\pandas\\io\\formats\\format.py:876: RuntimeWarning: divide by zero encountered in long_scalars\n",
      "  lwidth -= np.array([self.adj.len(x) for x in idx]).max() + adjoin_width\n",
      "C:\\Users\\Mitja\\anaconda3\\lib\\site-packages\\pandas\\io\\formats\\format.py:1923: RuntimeWarning: divide by zero encountered in long_scalars\n",
      "  w_adjoined = w + adjoin_width\n",
      "C:\\Users\\Mitja\\anaconda3\\lib\\site-packages\\pandas\\io\\formats\\format.py:1924: RuntimeWarning: divide by zero encountered in long_scalars\n",
      "  curr_width += w_adjoined\n",
      "C:\\Users\\Mitja\\anaconda3\\lib\\site-packages\\pandas\\io\\formats\\format.py:1928: RuntimeWarning: divide by zero encountered in long_scalars\n",
      "  wrap = curr_width + 2 > line_width and i > 0\n",
      "C:\\Users\\Mitja\\anaconda3\\lib\\site-packages\\pandas\\io\\formats\\format.py:1926: RuntimeWarning: divide by zero encountered in long_scalars\n",
      "  wrap = curr_width + 1 > line_width and i > 0\n",
      "C:\\Users\\Mitja\\anaconda3\\lib\\site-packages\\numpy\\core\\_methods.py:45: RuntimeWarning: divide by zero encountered in reduce\n",
      "  return umr_any(a, axis, dtype, out, keepdims)\n",
      "C:\\Users\\Mitja\\anaconda3\\lib\\site-packages\\pandas\\core\\dtypes\\missing.py:387: RuntimeWarning: divide by zero encountered in invert\n",
      "  return ~res\n",
      "C:\\Users\\Mitja\\anaconda3\\lib\\site-packages\\pandas\\io\\formats\\format.py:1250: RuntimeWarning: divide by zero encountered in bitwise_and\n",
      "  is_float_type = lib.map_infer(vals, is_float) & notna(vals)\n",
      "C:\\Users\\Mitja\\anaconda3\\lib\\site-packages\\pandas\\core\\dtypes\\missing.py:262: RuntimeWarning: divide by zero encountered in isnan\n",
      "  result = np.isnan(values)\n",
      "C:\\Users\\Mitja\\anaconda3\\lib\\site-packages\\pandas\\io\\formats\\format.py:1373: RuntimeWarning: divide by zero encountered in invert\n",
      "  imask = (~mask).ravel()\n",
      "C:\\Users\\Mitja\\anaconda3\\lib\\site-packages\\pandas\\io\\formats\\format.py:1416: RuntimeWarning: divide by zero encountered in absolute\n",
      "  abs_vals = np.abs(self.values)\n",
      "C:\\Users\\Mitja\\anaconda3\\lib\\site-packages\\pandas\\io\\formats\\format.py:1420: RuntimeWarning: divide by zero encountered in greater\n",
      "  has_large_values = (abs_vals > 1e6).any()\n",
      "C:\\Users\\Mitja\\anaconda3\\lib\\site-packages\\pandas\\io\\formats\\format.py:1422: RuntimeWarning: divide by zero encountered in less\n",
      "  (abs_vals < 10 ** (-self.digits)) & (abs_vals > 0)\n",
      "C:\\Users\\Mitja\\anaconda3\\lib\\site-packages\\pandas\\io\\formats\\format.py:1422: RuntimeWarning: divide by zero encountered in greater\n",
      "  (abs_vals < 10 ** (-self.digits)) & (abs_vals > 0)\n",
      "C:\\Users\\Mitja\\anaconda3\\lib\\site-packages\\pandas\\io\\formats\\format.py:1422: RuntimeWarning: divide by zero encountered in bitwise_and\n",
      "  (abs_vals < 10 ** (-self.digits)) & (abs_vals > 0)\n"
     ]
    },
    {
     "data": {
      "text/html": [
       "<div>\n",
       "<style scoped>\n",
       "    .dataframe tbody tr th:only-of-type {\n",
       "        vertical-align: middle;\n",
       "    }\n",
       "\n",
       "    .dataframe tbody tr th {\n",
       "        vertical-align: top;\n",
       "    }\n",
       "\n",
       "    .dataframe thead th {\n",
       "        text-align: right;\n",
       "    }\n",
       "</style>\n",
       "<table border=\"1\" class=\"dataframe\">\n",
       "  <thead>\n",
       "    <tr style=\"text-align: right;\">\n",
       "      <th></th>\n",
       "      <th>model</th>\n",
       "      <th>year</th>\n",
       "      <th>price</th>\n",
       "      <th>transmission</th>\n",
       "      <th>mileage</th>\n",
       "      <th>fuelType</th>\n",
       "      <th>tax(£)</th>\n",
       "      <th>mpg</th>\n",
       "      <th>engineSize</th>\n",
       "      <th>brand</th>\n",
       "    </tr>\n",
       "  </thead>\n",
       "  <tbody>\n",
       "    <tr>\n",
       "      <th>0</th>\n",
       "      <td>I20</td>\n",
       "      <td>2017</td>\n",
       "      <td>7999</td>\n",
       "      <td>Manual</td>\n",
       "      <td>17307</td>\n",
       "      <td>Petrol</td>\n",
       "      <td>145</td>\n",
       "      <td>58.9</td>\n",
       "      <td>1.2</td>\n",
       "      <td>Hyundi</td>\n",
       "    </tr>\n",
       "    <tr>\n",
       "      <th>1</th>\n",
       "      <td>Tucson</td>\n",
       "      <td>2016</td>\n",
       "      <td>14499</td>\n",
       "      <td>Automatic</td>\n",
       "      <td>25233</td>\n",
       "      <td>Diesel</td>\n",
       "      <td>235</td>\n",
       "      <td>43.5</td>\n",
       "      <td>2.0</td>\n",
       "      <td>Hyundi</td>\n",
       "    </tr>\n",
       "    <tr>\n",
       "      <th>2</th>\n",
       "      <td>Tucson</td>\n",
       "      <td>2016</td>\n",
       "      <td>11399</td>\n",
       "      <td>Manual</td>\n",
       "      <td>37877</td>\n",
       "      <td>Diesel</td>\n",
       "      <td>30</td>\n",
       "      <td>61.7</td>\n",
       "      <td>1.7</td>\n",
       "      <td>Hyundi</td>\n",
       "    </tr>\n",
       "  </tbody>\n",
       "</table>\n",
       "</div>"
      ],
      "text/plain": [
       "    model  year  price transmission  mileage fuelType  tax(£)   mpg  \\\n",
       "0     I20  2017   7999       Manual    17307   Petrol     145  58.9   \n",
       "1  Tucson  2016  14499    Automatic    25233   Diesel     235  43.5   \n",
       "2  Tucson  2016  11399       Manual    37877   Diesel      30  61.7   \n",
       "\n",
       "   engineSize   brand  \n",
       "0         1.2  Hyundi  \n",
       "1         2.0  Hyundi  \n",
       "2         1.7  Hyundi  "
      ]
     },
     "execution_count": 7,
     "metadata": {},
     "output_type": "execute_result"
    }
   ],
   "source": [
    "data_hyundi.head(3)"
   ]
  },
  {
   "cell_type": "code",
   "execution_count": 46,
   "metadata": {},
   "outputs": [],
   "source": [
    "# Spalte tax(£) umbennen\n",
    "data_hyundi.rename(columns={\"tax(£)\":\"tax\"}, inplace=True)"
   ]
  },
  {
   "cell_type": "code",
   "execution_count": 47,
   "metadata": {},
   "outputs": [
    {
     "data": {
      "text/plain": [
       "(99187, 10)"
      ]
     },
     "execution_count": 47,
     "metadata": {},
     "output_type": "execute_result"
    }
   ],
   "source": [
    "# Datensätze zusammenführen\n",
    "data = pd.concat([data_audi, data_bmw, data_ford, data_hyundi, data_merc, data_skoda, data_toyota, data_vauxhall, data_vw], axis=0)\n",
    "data.shape"
   ]
  },
  {
   "cell_type": "code",
   "execution_count": 48,
   "metadata": {},
   "outputs": [
    {
     "name": "stdout",
     "output_type": "stream",
     "text": [
      "<class 'pandas.core.frame.DataFrame'>\n",
      "Int64Index: 99187 entries, 0 to 15156\n",
      "Data columns (total 10 columns):\n",
      " #   Column        Non-Null Count  Dtype  \n",
      "---  ------        --------------  -----  \n",
      " 0   model         99187 non-null  object \n",
      " 1   year          99187 non-null  int64  \n",
      " 2   price         99187 non-null  int64  \n",
      " 3   transmission  99187 non-null  object \n",
      " 4   mileage       99187 non-null  int64  \n",
      " 5   fuelType      99187 non-null  object \n",
      " 6   tax           99187 non-null  int64  \n",
      " 7   mpg           99187 non-null  float64\n",
      " 8   engineSize    99187 non-null  float64\n",
      " 9   brand         99187 non-null  object \n",
      "dtypes: float64(2), int64(4), object(4)\n",
      "memory usage: 8.3+ MB\n"
     ]
    }
   ],
   "source": [
    "data.info()"
   ]
  },
  {
   "cell_type": "code",
   "execution_count": 49,
   "metadata": {},
   "outputs": [],
   "source": [
    "# Speicherplatz reduzieren\n",
    "\n",
    "# String Variable in kategorische Variable umwandeln\n",
    "data[\"model\"] = data[\"model\"].astype(\"category\")\n",
    "data[\"transmission\"] = data[\"transmission\"].astype(\"category\")\n",
    "data[\"fuelType\"] = data[\"fuelType\"].astype(\"category\")\n",
    "data[\"brand\"] = data[\"brand\"].astype(\"category\")\n",
    "\n",
    "# Downcasting\n",
    "data[[\"year\", \"price\", \"mileage\", \"tax\", \"mpg\"]] = data[[\"year\", \"price\", \"mileage\", \"tax\", \"mpg\"]].apply(pd.to_numeric, downcast=\"unsigned\")"
   ]
  },
  {
   "cell_type": "code",
   "execution_count": 50,
   "metadata": {},
   "outputs": [
    {
     "name": "stdout",
     "output_type": "stream",
     "text": [
      "<class 'pandas.core.frame.DataFrame'>\n",
      "Int64Index: 99187 entries, 0 to 15156\n",
      "Data columns (total 10 columns):\n",
      " #   Column        Non-Null Count  Dtype   \n",
      "---  ------        --------------  -----   \n",
      " 0   model         99187 non-null  category\n",
      " 1   year          99187 non-null  uint16  \n",
      " 2   price         99187 non-null  uint32  \n",
      " 3   transmission  99187 non-null  category\n",
      " 4   mileage       99187 non-null  uint32  \n",
      " 5   fuelType      99187 non-null  category\n",
      " 6   tax           99187 non-null  uint16  \n",
      " 7   mpg           99187 non-null  float64 \n",
      " 8   engineSize    99187 non-null  float64 \n",
      " 9   brand         99187 non-null  category\n",
      "dtypes: category(4), float64(2), uint16(2), uint32(2)\n",
      "memory usage: 3.9 MB\n"
     ]
    }
   ],
   "source": [
    "data.info()"
   ]
  },
  {
   "cell_type": "code",
   "execution_count": 51,
   "metadata": {},
   "outputs": [],
   "source": [
    "# Trainings und Testdaten erstellen\n",
    "\n",
    "df_train, df_test = train_test_split(data, train_size=0.8)"
   ]
  },
  {
   "cell_type": "markdown",
   "metadata": {},
   "source": [
    "## Daten untersuchen"
   ]
  },
  {
   "cell_type": "code",
   "execution_count": 52,
   "metadata": {},
   "outputs": [
    {
     "data": {
      "text/plain": [
       "['Semi-Auto', 'Manual', 'Automatic', 'Other']\n",
       "Categories (4, object): ['Semi-Auto', 'Manual', 'Automatic', 'Other']"
      ]
     },
     "execution_count": 52,
     "metadata": {},
     "output_type": "execute_result"
    }
   ],
   "source": [
    "# Ausprägungen Transmission\n",
    "\n",
    "df_train[\"transmission\"].unique()"
   ]
  },
  {
   "cell_type": "code",
   "execution_count": 53,
   "metadata": {},
   "outputs": [
    {
     "data": {
      "text/plain": [
       "['Sharan', 'Touareg', 'Corsa', 'Octavia', 'Adam', ..., 'Caddy Maxi', 'Kadjar', 'R Class', 'Transit Tourneo', '220']\n",
       "Length: 188\n",
       "Categories (188, object): ['Sharan', 'Touareg', 'Corsa', 'Octavia', ..., 'Kadjar', 'R Class', 'Transit Tourneo', '220']"
      ]
     },
     "execution_count": 53,
     "metadata": {},
     "output_type": "execute_result"
    }
   ],
   "source": [
    "# Ausprägungen Transmission\n",
    "\n",
    "df_train[\"model\"].unique()"
   ]
  },
  {
   "cell_type": "code",
   "execution_count": 54,
   "metadata": {},
   "outputs": [
    {
     "data": {
      "text/plain": [
       "['VW', 'Vauxhall', 'Skoda', 'Ford', 'Audi', 'Hyundi', 'BMW', 'Mercedes', 'Toyota']\n",
       "Categories (9, object): ['VW', 'Vauxhall', 'Skoda', 'Ford', ..., 'Hyundi', 'BMW', 'Mercedes', 'Toyota']"
      ]
     },
     "execution_count": 54,
     "metadata": {},
     "output_type": "execute_result"
    }
   ],
   "source": [
    "# Ausprägungen Transmission\n",
    "\n",
    "df_train[\"brand\"].unique()"
   ]
  },
  {
   "cell_type": "code",
   "execution_count": 55,
   "metadata": {},
   "outputs": [
    {
     "data": {
      "text/plain": [
       "['Diesel', 'Petrol', 'Hybrid', 'Other', 'Electric']\n",
       "Categories (5, object): ['Diesel', 'Petrol', 'Hybrid', 'Other', 'Electric']"
      ]
     },
     "execution_count": 55,
     "metadata": {},
     "output_type": "execute_result"
    }
   ],
   "source": [
    "# Ausprägungen Transmission\n",
    "\n",
    "df_train[\"fuelType\"].unique()"
   ]
  },
  {
   "cell_type": "code",
   "execution_count": 56,
   "metadata": {},
   "outputs": [
    {
     "data": {
      "text/plain": [
       "<seaborn.axisgrid.FacetGrid at 0x1ade7365640>"
      ]
     },
     "execution_count": 56,
     "metadata": {},
     "output_type": "execute_result"
    },
    {
     "data": {
      "image/png": "[encoded data removed]",
      "text/plain": [
       "<Figure size 360x360 with 1 Axes>"
      ]
     },
     "metadata": {
      "needs_background": "light"
     },
     "output_type": "display_data"
    }
   ],
   "source": [
    "sns.displot(df_train[\"price\"])"
   ]
  },
  {
   "cell_type": "code",
   "execution_count": 57,
   "metadata": {},
   "outputs": [
    {
     "name": "stderr",
     "output_type": "stream",
     "text": [
      "C:\\Users\\Alfa\\anaconda3\\lib\\site-packages\\seaborn\\_decorators.py:36: FutureWarning: Pass the following variables as keyword args: x, y. From version 0.12, the only valid positional argument will be `data`, and passing other arguments without an explicit keyword will result in an error or misinterpretation.\n",
      "  warnings.warn(\n"
     ]
    },
    {
     "data": {
      "text/plain": [
       "<AxesSubplot:xlabel='brand', ylabel='price'>"
      ]
     },
     "execution_count": 57,
     "metadata": {},
     "output_type": "execute_result"
    },
    {
     "data": {
      "image/png": "[encoded data removed]",
      "text/plain": [
       "<Figure size 1152x576 with 1 Axes>"
      ]
     },
     "metadata": {
      "needs_background": "light"
     },
     "output_type": "display_data"
    }
   ],
   "source": [
    "plt.figure(figsize=(16,8))\n",
    "sns.boxplot(df_train.iloc[:, 9], df_train.iloc[:, 2])"
   ]
  },
  {
   "cell_type": "code",
   "execution_count": 58,
   "metadata": {},
   "outputs": [
    {
     "data": {
      "text/plain": [
       "(79349, 10)"
      ]
     },
     "execution_count": 58,
     "metadata": {},
     "output_type": "execute_result"
    }
   ],
   "source": [
    "df_train.shape"
   ]
  },
  {
   "cell_type": "code",
   "execution_count": 59,
   "metadata": {},
   "outputs": [
    {
     "data": {
      "image/png": "[encoded data removed]",
      "text/plain": [
       "<Figure size 864x576 with 2 Axes>"
      ]
     },
     "metadata": {
      "needs_background": "light"
     },
     "output_type": "display_data"
    }
   ],
   "source": [
    "corrmat = df_train.corr()\n",
    "\n",
    "fig = plt.figure(figsize=(12, 8))\n",
    "sns.heatmap(corrmat, vmax=0.8, vmin=-0.8, square=True, annot=True);"
   ]
  },
  {
   "cell_type": "code",
   "execution_count": 60,
   "metadata": {},
   "outputs": [
    {
     "data": {
      "text/plain": [
       "price         1.000000\n",
       "engineSize    0.638718\n",
       "year          0.492981\n",
       "mileage       0.418725\n",
       "tax           0.307256\n",
       "mpg           0.302859\n",
       "Name: price, dtype: float64"
      ]
     },
     "execution_count": 60,
     "metadata": {},
     "output_type": "execute_result"
    }
   ],
   "source": [
    "# Schnelle Auswahl der k Features mit der stärksten Korrelation\n",
    "k = 6\n",
    "k_best_features = corrmat[\"price\"].abs().nlargest(k)\n",
    "k_best_features"
   ]
  },
  {
   "cell_type": "markdown",
   "metadata": {},
   "source": [
    "## Trainingsdaten vorbereiten"
   ]
  },
  {
   "cell_type": "markdown",
   "metadata": {},
   "source": [
    "### Nominale Features encoden"
   ]
  },
  {
   "cell_type": "code",
   "execution_count": 61,
   "metadata": {},
   "outputs": [],
   "source": [
    "# Hier wird der gesamte Datensatz verwendet, um alle Kategorien zu haben\n",
    "\n",
    "nominal_columns_data = [\"model\", \"transmission\", \"fuelType\", \"brand\"]\n",
    "# Nominale Kategorien können aus den Daten geschlossen werden\n",
    "nominal_categories_data = [list(data[column].unique()) for column in nominal_columns_data] "
   ]
  },
  {
   "cell_type": "code",
   "execution_count": 62,
   "metadata": {},
   "outputs": [
    {
     "data": {
      "text/html": [
       "<div>\n",
       "<style scoped>\n",
       "    .dataframe tbody tr th:only-of-type {\n",
       "        vertical-align: middle;\n",
       "    }\n",
       "\n",
       "    .dataframe tbody tr th {\n",
       "        vertical-align: top;\n",
       "    }\n",
       "\n",
       "    .dataframe thead th {\n",
       "        text-align: right;\n",
       "    }\n",
       "</style>\n",
       "<table border=\"1\" class=\"dataframe\">\n",
       "  <thead>\n",
       "    <tr style=\"text-align: right;\">\n",
       "      <th></th>\n",
       "      <th>x0_A6</th>\n",
       "      <th>x0_A4</th>\n",
       "      <th>x0_A3</th>\n",
       "      <th>x0_Q3</th>\n",
       "      <th>x0_Q5</th>\n",
       "      <th>x0_A5</th>\n",
       "      <th>x0_S4</th>\n",
       "      <th>x0_Q2</th>\n",
       "      <th>x0_A7</th>\n",
       "      <th>x0_TT</th>\n",
       "      <th>...</th>\n",
       "      <th>x3_Skoda</th>\n",
       "      <th>x3_Toyota</th>\n",
       "      <th>x3_Vauxhall</th>\n",
       "      <th>x3_VW</th>\n",
       "      <th>year</th>\n",
       "      <th>price</th>\n",
       "      <th>mileage</th>\n",
       "      <th>tax</th>\n",
       "      <th>mpg</th>\n",
       "      <th>engineSize</th>\n",
       "    </tr>\n",
       "  </thead>\n",
       "  <tbody>\n",
       "    <tr>\n",
       "      <th>12049</th>\n",
       "      <td>0.0</td>\n",
       "      <td>0.0</td>\n",
       "      <td>0.0</td>\n",
       "      <td>0.0</td>\n",
       "      <td>0.0</td>\n",
       "      <td>0.0</td>\n",
       "      <td>0.0</td>\n",
       "      <td>0.0</td>\n",
       "      <td>0.0</td>\n",
       "      <td>0.0</td>\n",
       "      <td>...</td>\n",
       "      <td>0.0</td>\n",
       "      <td>0.0</td>\n",
       "      <td>0.0</td>\n",
       "      <td>1.0</td>\n",
       "      <td>2017</td>\n",
       "      <td>19991</td>\n",
       "      <td>15352</td>\n",
       "      <td>150</td>\n",
       "      <td>54.3</td>\n",
       "      <td>2.0</td>\n",
       "    </tr>\n",
       "    <tr>\n",
       "      <th>13775</th>\n",
       "      <td>0.0</td>\n",
       "      <td>0.0</td>\n",
       "      <td>0.0</td>\n",
       "      <td>0.0</td>\n",
       "      <td>0.0</td>\n",
       "      <td>0.0</td>\n",
       "      <td>0.0</td>\n",
       "      <td>0.0</td>\n",
       "      <td>0.0</td>\n",
       "      <td>0.0</td>\n",
       "      <td>...</td>\n",
       "      <td>0.0</td>\n",
       "      <td>0.0</td>\n",
       "      <td>0.0</td>\n",
       "      <td>1.0</td>\n",
       "      <td>2017</td>\n",
       "      <td>25999</td>\n",
       "      <td>30077</td>\n",
       "      <td>145</td>\n",
       "      <td>42.8</td>\n",
       "      <td>3.0</td>\n",
       "    </tr>\n",
       "    <tr>\n",
       "      <th>1033</th>\n",
       "      <td>0.0</td>\n",
       "      <td>0.0</td>\n",
       "      <td>0.0</td>\n",
       "      <td>0.0</td>\n",
       "      <td>0.0</td>\n",
       "      <td>0.0</td>\n",
       "      <td>0.0</td>\n",
       "      <td>0.0</td>\n",
       "      <td>0.0</td>\n",
       "      <td>0.0</td>\n",
       "      <td>...</td>\n",
       "      <td>0.0</td>\n",
       "      <td>0.0</td>\n",
       "      <td>1.0</td>\n",
       "      <td>0.0</td>\n",
       "      <td>2017</td>\n",
       "      <td>6990</td>\n",
       "      <td>24586</td>\n",
       "      <td>145</td>\n",
       "      <td>55.4</td>\n",
       "      <td>1.4</td>\n",
       "    </tr>\n",
       "    <tr>\n",
       "      <th>5963</th>\n",
       "      <td>0.0</td>\n",
       "      <td>0.0</td>\n",
       "      <td>0.0</td>\n",
       "      <td>0.0</td>\n",
       "      <td>0.0</td>\n",
       "      <td>0.0</td>\n",
       "      <td>0.0</td>\n",
       "      <td>0.0</td>\n",
       "      <td>0.0</td>\n",
       "      <td>0.0</td>\n",
       "      <td>...</td>\n",
       "      <td>1.0</td>\n",
       "      <td>0.0</td>\n",
       "      <td>0.0</td>\n",
       "      <td>0.0</td>\n",
       "      <td>2019</td>\n",
       "      <td>14640</td>\n",
       "      <td>14075</td>\n",
       "      <td>145</td>\n",
       "      <td>70.6</td>\n",
       "      <td>1.6</td>\n",
       "    </tr>\n",
       "    <tr>\n",
       "      <th>11294</th>\n",
       "      <td>0.0</td>\n",
       "      <td>0.0</td>\n",
       "      <td>0.0</td>\n",
       "      <td>0.0</td>\n",
       "      <td>0.0</td>\n",
       "      <td>0.0</td>\n",
       "      <td>0.0</td>\n",
       "      <td>0.0</td>\n",
       "      <td>0.0</td>\n",
       "      <td>0.0</td>\n",
       "      <td>...</td>\n",
       "      <td>0.0</td>\n",
       "      <td>0.0</td>\n",
       "      <td>1.0</td>\n",
       "      <td>0.0</td>\n",
       "      <td>2017</td>\n",
       "      <td>7990</td>\n",
       "      <td>9654</td>\n",
       "      <td>125</td>\n",
       "      <td>53.3</td>\n",
       "      <td>1.2</td>\n",
       "    </tr>\n",
       "  </tbody>\n",
       "</table>\n",
       "<p>5 rows × 215 columns</p>\n",
       "</div>"
      ],
      "text/plain": [
       "       x0_A6  x0_A4  x0_A3  x0_Q3  x0_Q5  x0_A5  x0_S4  x0_Q2  x0_A7  x0_TT  \\\n",
       "12049    0.0    0.0    0.0    0.0    0.0    0.0    0.0    0.0    0.0    0.0   \n",
       "13775    0.0    0.0    0.0    0.0    0.0    0.0    0.0    0.0    0.0    0.0   \n",
       "1033     0.0    0.0    0.0    0.0    0.0    0.0    0.0    0.0    0.0    0.0   \n",
       "5963     0.0    0.0    0.0    0.0    0.0    0.0    0.0    0.0    0.0    0.0   \n",
       "11294    0.0    0.0    0.0    0.0    0.0    0.0    0.0    0.0    0.0    0.0   \n",
       "\n",
       "       ...  x3_Skoda  x3_Toyota  x3_Vauxhall  x3_VW  year  price  mileage  \\\n",
       "12049  ...       0.0        0.0          0.0    1.0  2017  19991    15352   \n",
       "13775  ...       0.0        0.0          0.0    1.0  2017  25999    30077   \n",
       "1033   ...       0.0        0.0          1.0    0.0  2017   6990    24586   \n",
       "5963   ...       1.0        0.0          0.0    0.0  2019  14640    14075   \n",
       "11294  ...       0.0        0.0          1.0    0.0  2017   7990     9654   \n",
       "\n",
       "       tax   mpg  engineSize  \n",
       "12049  150  54.3         2.0  \n",
       "13775  145  42.8         3.0  \n",
       "1033   145  55.4         1.4  \n",
       "5963   145  70.6         1.6  \n",
       "11294  125  53.3         1.2  \n",
       "\n",
       "[5 rows x 215 columns]"
      ]
     },
     "execution_count": 62,
     "metadata": {},
     "output_type": "execute_result"
    }
   ],
   "source": [
    "# Encoding-Transformationen instanziieren und fitten\n",
    "nominal_encoder = OneHotEncoder(categories=nominal_categories_data, sparse=False, drop=\"first\")\n",
    "nominal_encoder.fit(df_train.loc[:, nominal_columns_data])\n",
    "\n",
    "# Trainingsdaten transformieren\n",
    "X_train_nominal = nominal_encoder.transform(df_train.loc[:, nominal_columns_data])\n",
    "X_train_nominal = pd.DataFrame(\n",
    "    X_train_nominal,\n",
    "    columns=nominal_encoder.get_feature_names(),\n",
    "    index=df_train.index\n",
    ")\n",
    "\n",
    "df_train= pd.concat((\n",
    "    X_train_nominal,\n",
    "    df_train.drop(columns=nominal_columns_data)\n",
    "), axis=1)\n",
    "\n",
    "df_train.head(5)"
   ]
  },
  {
   "cell_type": "markdown",
   "metadata": {},
   "source": [
    "### Numerische Features skalieren"
   ]
  },
  {
   "cell_type": "code",
   "execution_count": 63,
   "metadata": {},
   "outputs": [],
   "source": [
    "# Vorauswahl für eine bessere Übersichtlichkeit in der Graphik\n",
    "df_train_numeric = df_train_audi.loc[:, [\"year\", \"mileage\", \"tax\", \"mpg\", \"engineSize\"]]\n",
    "\n",
    "numeric_selector = make_column_selector(dtype_include=np.number)\n",
    "numeric_columns = numeric_selector(df_train_numeric)"
   ]
  },
  {
   "cell_type": "code",
   "execution_count": 64,
   "metadata": {},
   "outputs": [],
   "source": [
    "scaler = MinMaxScaler()\n",
    "scaler.fit(df_train[numeric_columns])\n",
    "\n",
    "df_train.loc[:, numeric_columns] = scaler.transform(df_train[numeric_columns])"
   ]
  },
  {
   "cell_type": "code",
   "execution_count": 65,
   "metadata": {},
   "outputs": [
    {
     "data": {
      "text/plain": [
       "<AxesSubplot:>"
      ]
     },
     "execution_count": 65,
     "metadata": {},
     "output_type": "execute_result"
    },
    {
     "data": {
      "image/png": "[encoded data removed]",
      "text/plain": [
       "<Figure size 1080x576 with 1 Axes>"
      ]
     },
     "metadata": {
      "needs_background": "light"
     },
     "output_type": "display_data"
    }
   ],
   "source": [
    "# Skalierung überprüfen\n",
    "\n",
    "plt.figure(figsize=(15, 8))\n",
    "df_train[numeric_columns].boxplot(rot=90)"
   ]
  },
  {
   "cell_type": "code",
   "execution_count": 66,
   "metadata": {},
   "outputs": [],
   "source": [
    "# Trainingsdaten aufteilen\n",
    "\n",
    "X_train = df_train.drop(\"price\", axis=1)\n",
    "y_train = df_train[\"price\"]"
   ]
  },
  {
   "cell_type": "markdown",
   "metadata": {},
   "source": [
    "## Testdaten vorbereiten"
   ]
  },
  {
   "cell_type": "code",
   "execution_count": 67,
   "metadata": {},
   "outputs": [],
   "source": [
    "# Trainingsdaten transformieren\n",
    "X_test_nominal = nominal_encoder.transform(df_test.loc[:, nominal_columns_data])\n",
    "X_test_nominal = pd.DataFrame(\n",
    "    X_test_nominal,\n",
    "    columns=nominal_encoder.get_feature_names(),\n",
    "    index=df_test.index\n",
    ")\n",
    "\n",
    "df_test= pd.concat((\n",
    "    X_test_nominal,\n",
    "    df_test.drop(columns=nominal_columns_data)\n",
    "), axis=1)"
   ]
  },
  {
   "cell_type": "code",
   "execution_count": 68,
   "metadata": {},
   "outputs": [],
   "source": [
    "# Numerische Features skalieren\n",
    "\n",
    "df_test.loc[:, numeric_columns] = scaler.transform(df_test[numeric_columns])"
   ]
  },
  {
   "cell_type": "code",
   "execution_count": 69,
   "metadata": {},
   "outputs": [
    {
     "data": {
      "text/plain": [
       "<AxesSubplot:>"
      ]
     },
     "execution_count": 69,
     "metadata": {},
     "output_type": "execute_result"
    },
    {
     "data": {
      "image/png": "[encoded data removed]",
      "text/plain": [
       "<Figure size 1080x576 with 1 Axes>"
      ]
     },
     "metadata": {
      "needs_background": "light"
     },
     "output_type": "display_data"
    }
   ],
   "source": [
    "# Test durch Viszualisierung\n",
    "\n",
    "plt.figure(figsize=(15, 8))\n",
    "df_test[numeric_columns].boxplot(rot=90)"
   ]
  },
  {
   "cell_type": "code",
   "execution_count": 70,
   "metadata": {},
   "outputs": [],
   "source": [
    "# Testdaten aufteilen\n",
    "\n",
    "X_test = df_test.drop(\"price\", axis=1)\n",
    "y_test = df_test[\"price\"]"
   ]
  },
  {
   "cell_type": "markdown",
   "metadata": {},
   "source": [
    "# Baseline - Modelle auf Gesamtdatensatz trainieren"
   ]
  },
  {
   "cell_type": "markdown",
   "metadata": {},
   "source": [
    "## Lineare Regression"
   ]
  },
  {
   "cell_type": "code",
   "execution_count": 71,
   "metadata": {},
   "outputs": [
    {
     "data": {
      "text/plain": [
       "LinearRegression()"
      ]
     },
     "execution_count": 71,
     "metadata": {},
     "output_type": "execute_result"
    }
   ],
   "source": [
    "# Model trainieren\n",
    "\n",
    "data_LinReg = LinearRegression()\n",
    "data_LinReg.fit(X_train, y_train)"
   ]
  },
  {
   "cell_type": "code",
   "execution_count": 72,
   "metadata": {},
   "outputs": [
    {
     "name": "stdout",
     "output_type": "stream",
     "text": [
      "[ 4.47092096e+03  2.42564715e+03  1.94594829e+03  4.75279237e+03\n",
      "  9.43696056e+03  3.99855680e+03  1.22318018e+04  3.34871914e+03\n",
      "  5.17742915e+03  4.02417385e+03  1.73733906e+04  2.46829210e+04\n",
      "  1.07544517e+04  8.77588024e+03  2.94314340e+04  2.26744423e+04\n",
      "  2.15772106e+04  6.04534316e+04  1.20457748e+04  8.04088896e+02\n",
      "  1.92656736e+04  4.98334299e+03 -5.89199516e+01  1.55341136e+04\n",
      "  1.72678845e+14  3.01016289e+15  3.01016289e+15  3.01016289e+15\n",
      "  3.01016289e+15  3.01016289e+15  3.01016289e+15  3.01016289e+15\n",
      "  3.01016289e+15  3.01016289e+15  3.01016289e+15  3.01016289e+15\n",
      "  3.01016289e+15  3.01016289e+15  3.01016289e+15  3.01016289e+15\n",
      "  3.01016289e+15  3.01016289e+15  3.01016289e+15  3.01016289e+15\n",
      "  3.01016289e+15  3.01016289e+15  3.01016289e+15  3.01016289e+15\n",
      "  3.01016289e+15 -3.08347513e+15 -3.08347513e+15 -3.08347513e+15\n",
      " -3.08347513e+15 -3.08347513e+15 -3.08347513e+15 -3.08347513e+15\n",
      " -3.08347513e+15 -3.08347513e+15 -3.08347513e+15 -3.08347513e+15\n",
      " -3.08347513e+15 -3.08347513e+15 -3.08347513e+15 -3.08347513e+15\n",
      " -3.08347513e+15 -3.08347513e+15 -3.08347513e+15 -3.08347513e+15\n",
      " -8.48278714e+13 -3.08347513e+15 -3.08347513e+15 -3.08347513e+15\n",
      "  3.52105251e+15  3.52105251e+15  3.52105251e+15  3.52105251e+15\n",
      "  3.52105251e+15  3.52105251e+15  3.52105251e+15  3.52105251e+15\n",
      "  3.52105251e+15  3.52105251e+15  3.52105251e+15  3.52105251e+15\n",
      "  3.24767054e+13  3.52105251e+15  3.52105251e+15  4.58023561e+13\n",
      " -1.27992234e+15 -1.27992234e+15 -1.27992234e+15 -1.27992234e+15\n",
      " -1.27992234e+15 -1.27992234e+15 -1.27992234e+15 -1.27992234e+15\n",
      " -1.27992234e+15 -1.27992234e+15 -1.27992234e+15 -1.27992234e+15\n",
      " -1.27992234e+15 -1.27992234e+15 -1.27992234e+15 -1.27992234e+15\n",
      " -1.27992234e+15 -1.27992234e+15 -1.27992234e+15 -1.27992234e+15\n",
      " -1.27992234e+15 -8.71517207e+13 -1.27992234e+15 -1.27992234e+15\n",
      "  4.59287574e+12 -1.27992234e+15 -9.98450799e+13  1.05449741e+16\n",
      "  1.05449741e+16  1.05449741e+16  1.05449741e+16  1.05449741e+16\n",
      "  1.05449741e+16  1.05449741e+16  1.05449741e+16  1.05449741e+16\n",
      "  1.05449741e+16  1.05449741e+16  1.05449741e+16 -1.90300759e+16\n",
      " -1.90300759e+16 -1.90300759e+16 -1.90300759e+16 -1.90300759e+16\n",
      " -1.90300759e+16 -1.90300759e+16 -1.90300759e+16 -1.90300759e+16\n",
      " -1.90300759e+16 -1.90300759e+16 -1.90300759e+16 -1.90300759e+16\n",
      " -1.90300759e+16 -1.90300759e+16 -1.90300759e+16 -1.90300759e+16\n",
      " -1.90300759e+16  6.72595944e+15  6.72595944e+15  6.72595944e+15\n",
      "  6.72595944e+15  6.72595944e+15  6.72595944e+15  6.72595944e+15\n",
      "  6.72595944e+15  6.72595944e+15  6.72595944e+15  6.72595944e+15\n",
      "  6.72595944e+15  6.72595944e+15  6.72595944e+15  6.72595944e+15\n",
      "  6.72595944e+15  6.72595944e+15  6.72595944e+15  6.72595944e+15\n",
      "  6.72595944e+15  6.72595944e+15  6.72595944e+15 -1.40039571e+15\n",
      " -1.40039571e+15 -1.40039571e+15 -1.40039571e+15 -1.40039571e+15\n",
      " -1.40039571e+15 -1.40039571e+15 -1.40039571e+15 -1.40039571e+15\n",
      " -1.40039571e+15 -1.40039571e+15 -1.40039571e+15 -1.40039571e+15\n",
      " -1.40039571e+15 -1.40039571e+15 -1.40039571e+15 -1.40039571e+15\n",
      " -1.40039571e+15 -1.40039571e+15 -1.40039571e+15 -1.40039571e+15\n",
      " -1.40039571e+15 -1.40039571e+15 -1.40039571e+15 -1.40039571e+15\n",
      " -1.40039571e+15 -1.40039571e+15  1.16752483e+03  1.89283592e+03\n",
      "  1.55694371e+03 -1.49370633e+03  4.11278560e+03  1.92016706e+03\n",
      "  3.63511215e+02 -3.01016289e+15  3.08347513e+15 -3.52105251e+15\n",
      "  1.27992234e+15 -1.05449741e+16  1.90300759e+16 -6.72595944e+15\n",
      "  1.40039571e+15  6.90411647e+04 -2.57286868e+04 -6.86418337e+03\n",
      " -3.87504547e+04  3.99889254e+04]\n",
      "-50589.86957145018\n"
     ]
    }
   ],
   "source": [
    "# Koeffizienten untersuchen\n",
    "\n",
    "# Gewichte = Koeffizienten = coef_\n",
    "print(data_LinReg.coef_)\n",
    "\n",
    "# Bias = Intercept = intercept_\n",
    "print(data_LinReg.intercept_)"
   ]
  },
  {
   "cell_type": "code",
   "execution_count": 73,
   "metadata": {},
   "outputs": [
    {
     "name": "stdout",
     "output_type": "stream",
     "text": [
      "MSE_train: 13612705.904279305\n",
      "MSE_test: 1.902131851081356e+27\n",
      "RMSE_train: 3689.540066767036 UK Pfund\n",
      "RMSE_test: 43613436588755.03 UK Pfund\n",
      "r2_score_train:  0.8608763467836139\n",
      "r2_score_test:  -1.99434221865705e+19\n"
     ]
    }
   ],
   "source": [
    "# Model evaluieren\n",
    "\n",
    "y_pred_train = data_LinReg.predict(X_train)\n",
    "y_pred_test = data_LinReg.predict(X_test)\n",
    "\n",
    "mse = mean_squared_error(y_train, y_pred_train)\n",
    "print(\"MSE_train:\", mse)\n",
    "mse = mean_squared_error(y_test, y_pred_test)\n",
    "print(\"MSE_test:\", mse)\n",
    "\n",
    "rmse = mean_squared_error(y_train, y_pred_train, squared=False) \n",
    "print(\"RMSE_train:\", rmse, \"UK Pfund\")\n",
    "rmse = mean_squared_error(y_test, y_pred_test, squared=False) \n",
    "print(\"RMSE_test:\", rmse, \"UK Pfund\")\n",
    "\n",
    "RegressionsKoeffizient = r2_score(y_train, y_pred_train) \n",
    "print(\"r2_score_train: \", RegressionsKoeffizient) \n",
    "RegressionsKoeffizient = r2_score(y_test, y_pred_test) \n",
    "print(\"r2_score_test: \", RegressionsKoeffizient) "
   ]
  },
  {
   "cell_type": "markdown",
   "metadata": {},
   "source": [
    "## Ridge Model"
   ]
  },
  {
   "cell_type": "code",
   "execution_count": 74,
   "metadata": {},
   "outputs": [
    {
     "data": {
      "text/plain": [
       "Ridge(alpha=0.001)"
      ]
     },
     "execution_count": 74,
     "metadata": {},
     "output_type": "execute_result"
    }
   ],
   "source": [
    "# Model instanziieren\n",
    "\n",
    "data_ridge = Ridge(alpha=0.001)\n",
    "data_ridge.fit(X_train, y_train)"
   ]
  },
  {
   "cell_type": "code",
   "execution_count": 75,
   "metadata": {},
   "outputs": [
    {
     "name": "stdout",
     "output_type": "stream",
     "text": [
      "[ 4.47080057e+03  2.41813807e+03  1.95061845e+03  4.75460101e+03\n",
      "  9.43022156e+03  3.99345557e+03  1.22864936e+04  3.34424670e+03\n",
      "  5.19137065e+03  4.03525160e+03  1.73670497e+04  2.46915424e+04\n",
      "  1.07345048e+04  8.79769036e+03  2.94475027e+04  2.26644785e+04\n",
      "  2.15096594e+04  6.04502176e+04  1.20322955e+04  6.69206736e+02\n",
      "  1.92905589e+04  4.99812017e+03  3.69191289e+01  1.54689059e+04\n",
      "  0.00000000e+00 -8.70568917e+03 -1.02818544e+04 -1.30017625e+04\n",
      " -1.27550028e+03 -1.23847984e+04 -1.05483996e+04 -4.55470097e+03\n",
      " -1.06683691e+04  1.94296189e+03 -3.45848919e+03  2.97699050e+04\n",
      " -1.00686148e+04  1.55609953e+03 -7.81352821e+03  5.57207513e+03\n",
      "  1.79450812e+04 -8.01006356e+03  2.67213224e+04  9.12280070e+03\n",
      "  2.90437940e+04 -8.64507765e+02 -2.70077873e+03 -6.86090120e+03\n",
      "  1.81973428e+03 -2.88451814e+03 -1.14042538e+03  3.99937615e+03\n",
      " -1.16033687e+03 -2.37479909e+03 -2.97675527e+03 -1.66875876e+03\n",
      " -7.49275614e+03  1.87359798e+03  1.39145672e+03 -4.33402187e+03\n",
      "  3.62814350e+03 -5.02343603e+02 -2.55585241e+03 -4.28136867e+03\n",
      "  1.86307995e+03 -4.56763649e+03  2.86464323e+02  2.89385644e+03\n",
      "  0.00000000e+00  5.88620507e+03  1.67587326e+04 -2.08037650e+03\n",
      " -3.58804362e+03 -4.51631580e+02 -4.35979819e+03  9.22781769e+02\n",
      " -1.40388410e+03 -6.34266650e+02 -2.82449333e+03 -4.73715007e+02\n",
      " -4.97160776e+02 -4.58548726e+03 -4.61993476e+03  5.31997844e+03\n",
      "  0.00000000e+00  7.84815514e+03  8.26398371e+03  0.00000000e+00\n",
      " -6.19104123e+03  1.08771178e+04 -1.58150137e+03  5.50135658e+04\n",
      "  6.34627992e+03 -6.82982920e+03 -5.59219188e+03 -7.66905333e+03\n",
      "  2.03171154e+03 -4.54317671e+03 -2.93508990e+03 -3.93775489e+03\n",
      " -2.99530312e+03 -7.10650263e+03 -4.90870884e+03  2.89017889e+03\n",
      " -2.77811201e+03 -5.63706711e+03  1.12061050e+04  4.21835663e+03\n",
      " -2.98762396e+03  0.00000000e+00 -4.11535150e+03 -5.99185604e+03\n",
      "  0.00000000e+00 -8.30348562e+03  0.00000000e+00 -1.24455581e+03\n",
      " -3.66169061e+03 -7.17740193e+02  1.28935296e+03  5.48918712e+03\n",
      " -2.21601869e+03  2.88032795e+03 -2.80457266e+03 -1.46870624e+02\n",
      " -1.28013426e+03  5.55337169e+02  8.13086295e+02 -1.15344228e+03\n",
      " -2.44326291e+03 -2.41094669e+03 -6.29977658e+03 -5.43558639e+03\n",
      " -5.53350105e+03 -1.26577926e+03  8.02443636e+01 -2.36929544e+03\n",
      " -3.70000535e+03  1.47410060e+01  5.00898143e+03  1.38995517e+04\n",
      "  1.79948145e+04 -5.61988994e+03 -1.67473080e+02  5.35484244e+02\n",
      " -3.29036257e+02 -4.97952097e+03 -2.20475825e+03 -5.31423310e+03\n",
      " -1.48421923e+03 -3.47113320e+03 -2.95951248e+03 -1.37270267e+03\n",
      " -3.15876284e+03 -1.55829810e+03 -4.28437770e+03  1.25403292e+03\n",
      "  1.48064428e+02 -1.15409305e+03  2.15455377e+04 -2.64491221e+03\n",
      " -1.04591545e+03  4.09177574e+03 -6.96747763e+02 -1.85696536e+03\n",
      "  6.18120461e+02  3.28566016e+03  5.86156921e+03 -5.75396916e+02\n",
      " -2.91723393e+03 -2.47278822e+03 -1.50426997e+03 -5.34080020e+03\n",
      "  5.47626892e+01 -9.51852918e+02 -7.59783790e+03 -4.16365889e+03\n",
      " -2.39999587e+03 -5.26036065e+03  1.63027663e+04  3.92062937e+03\n",
      "  4.26189079e+02 -5.56539651e+02 -4.76278221e+03  9.04242413e+02\n",
      "  2.41083477e+03  5.83632878e+02 -5.78057865e+03 -4.36181175e+03\n",
      "  3.21951091e+04 -5.38270255e+03 -2.88021810e+03 -1.64439451e+02\n",
      "  6.79551612e+02  2.53521853e+03  1.16833059e+03  1.89301388e+03\n",
      "  1.57159262e+03 -1.49206387e+03  4.11382436e+03  1.93684032e+03\n",
      "  4.03915459e+02  1.22958164e+04  5.60963458e+02 -1.08351621e+03\n",
      "  8.47966646e+03 -1.04429138e+03  8.05821993e+02 -1.38139165e+03\n",
      "  2.93966889e+03  6.90326319e+04 -2.57230152e+04 -6.86196085e+03\n",
      " -3.87456552e+04  3.99839918e+04]\n",
      "-50585.02496570884\n"
     ]
    }
   ],
   "source": [
    "# Koeffizienten untersuchen\n",
    "\n",
    "# Gewichte = Koeffizienten = coef_\n",
    "print(data_ridge.coef_)\n",
    "\n",
    "# Bias = Intercept = intercept_\n",
    "print(data_ridge.intercept_)"
   ]
  },
  {
   "cell_type": "code",
   "execution_count": 76,
   "metadata": {},
   "outputs": [
    {
     "name": "stdout",
     "output_type": "stream",
     "text": [
      "MSE_train: 13612059.03124899\n",
      "MSE_test: 13516903.21077947\n",
      "RMSE_train: 3689.4524026268437 UK Pfund\n",
      "RMSE_test: 3676.534130234543 UK Pfund\n",
      "r2_score_train:  0.8608829579114659\n",
      "r2_score_test:  0.858278327428073\n"
     ]
    }
   ],
   "source": [
    "# Model evaluieren\n",
    "\n",
    "y_pred_train = data_ridge.predict(X_train)\n",
    "y_pred_test = data_ridge.predict(X_test)\n",
    "\n",
    "mse = mean_squared_error(y_train, y_pred_train)\n",
    "print(\"MSE_train:\", mse)\n",
    "mse = mean_squared_error(y_test, y_pred_test)\n",
    "print(\"MSE_test:\", mse)\n",
    "\n",
    "rmse = mean_squared_error(y_train, y_pred_train, squared=False) \n",
    "print(\"RMSE_train:\", rmse, \"UK Pfund\")\n",
    "rmse = mean_squared_error(y_test, y_pred_test, squared=False) \n",
    "print(\"RMSE_test:\", rmse, \"UK Pfund\")\n",
    "\n",
    "RegressionsKoeffizient = r2_score(y_train, y_pred_train) \n",
    "print(\"r2_score_train: \", RegressionsKoeffizient) \n",
    "RegressionsKoeffizient = r2_score(y_test, y_pred_test) \n",
    "print(\"r2_score_test: \", RegressionsKoeffizient)"
   ]
  },
  {
   "cell_type": "markdown",
   "metadata": {},
   "source": [
    "## DecisionTree"
   ]
  },
  {
   "cell_type": "code",
   "execution_count": 77,
   "metadata": {},
   "outputs": [
    {
     "name": "stdout",
     "output_type": "stream",
     "text": [
      "Train_mse: 8397036.185246345\n",
      "Test_mse: 9786134.696529267\n",
      "Train_rmse: 2897.7639975067577\n",
      "Test_rmse: 3128.2798302788174\n",
      "r2_score_train:  0.9141811805458595\n",
      "r2_score_test:  0.8973945913809412\n"
     ]
    }
   ],
   "source": [
    "# Model trainieren\n",
    "tree = DecisionTreeRegressor(max_depth=10)\n",
    "tree.fit(X_train, y_train)\n",
    "\n",
    "# Model evaluieren\n",
    "y_pred_train = tree.predict(X_train)\n",
    "y_pred_test = tree.predict(X_test)\n",
    "\n",
    "mse_train = mean_squared_error(y_train, y_pred_train)\n",
    "print(\"Train_mse:\", mse_train)\n",
    "mse_test = mean_squared_error(y_test, y_pred_test)\n",
    "print(\"Test_mse:\", mse_test)\n",
    "\n",
    "rmse_train = mean_squared_error(y_train, y_pred_train, squared=False) \n",
    "print(\"Train_rmse:\", rmse_train)\n",
    "rmse_test = mean_squared_error(y_test, y_pred_test, squared=False) \n",
    "print(\"Test_rmse:\", rmse_test)\n",
    "\n",
    "RegressionsKoeffizient = r2_score(y_train, y_pred_train) \n",
    "print(\"r2_score_train: \", RegressionsKoeffizient)\n",
    "RegressionsKoeffizient = r2_score(y_test, y_pred_test) \n",
    "print(\"r2_score_test: \", RegressionsKoeffizient) "
   ]
  },
  {
   "cell_type": "markdown",
   "metadata": {},
   "source": [
    "## Random Forest"
   ]
  },
  {
   "cell_type": "code",
   "execution_count": 78,
   "metadata": {},
   "outputs": [
    {
     "name": "stdout",
     "output_type": "stream",
     "text": [
      "Train_mse: 6866785.832107798\n",
      "Test_mse: 7596804.722851436\n",
      "Train_rmse: 2620.45527191513\n",
      "Test_rmse: 2756.230165071748\n",
      "r2_score_train:  0.9298205413725247\n",
      "r2_score_test:  0.9203492209172419\n"
     ]
    }
   ],
   "source": [
    "# Modell trainieren\n",
    "forest = RandomForestRegressor(\n",
    "    n_estimators=100,  # Anzahl der Bäume. Sinnvolle sind 100, 200, 500, maximal 1000\n",
    "    max_depth=10,  # Tiefe der Bäume\n",
    "    n_jobs=-1,  # Anzahl der Prozessoren, -1 steht für alle vorhandenen\n",
    ")\n",
    "\n",
    "forest.fit(X_train, y_train)\n",
    "\n",
    "# Modell evaluieren\n",
    "y_pred_test = forest.predict(X_test)\n",
    "y_pred_train = forest.predict(X_train)\n",
    "\n",
    "mse_train = mean_squared_error(y_train, y_pred_train)\n",
    "print(\"Train_mse:\", mse_train)\n",
    "mse_test = mean_squared_error(y_test, y_pred_test)\n",
    "print(\"Test_mse:\", mse_test)\n",
    "\n",
    "rmse_train = mean_squared_error(y_train, y_pred_train, squared=False) \n",
    "print(\"Train_rmse:\", rmse_train)\n",
    "rmse_test = mean_squared_error(y_test, y_pred_test, squared=False) \n",
    "print(\"Test_rmse:\", rmse_test)\n",
    "\n",
    "RegressionsKoeffizient = r2_score(y_train, y_pred_train) \n",
    "print(\"r2_score_train: \", RegressionsKoeffizient) \n",
    "RegressionsKoeffizient = r2_score(y_test, y_pred_test) \n",
    "print(\"r2_score_test: \", RegressionsKoeffizient) "
   ]
  },
  {
   "cell_type": "markdown",
   "metadata": {},
   "source": [
    "## Zwischenfazit Baseline Modelle Gesamtdatensatz\n",
    "\n",
    "Die Größe des Einflusses auf den Preis je Variable ist wie folgt verteilt: \n",
    "\n",
    "+ price         1.000000\n",
    "+ engineSize    0.638394\n",
    "+ year          0.486929\n",
    "+ mileage       0.416372\n",
    "+ tax           0.305890\n",
    "+ mpg           0.300185\n",
    "+ Name: price, dtype: float64\n",
    "\n",
    "Die beim Audi Datensatz verwendeten Baseline Modelle lassen sich auch auf den Gesamtdatensatz anwenden, ausgenommen die Lineare Regression, die keine schlüssigen Ergebnisse liefert.\n",
    "\n",
    "Die besten Ergebnisse liefert der Random Forest und wird somit als endgültiges Baseline Model verwendet"
   ]
  },
  {
   "cell_type": "markdown",
   "metadata": {},
   "source": [
    "# DataPrep & Random Forest Scikit-Learn Pipeline"
   ]
  },
  {
   "cell_type": "code",
   "execution_count": 79,
   "metadata": {},
   "outputs": [],
   "source": [
    "# Trainings und Testdaten neu erstellen\n",
    "\n",
    "df_train, df_test = train_test_split(data, train_size=0.8)"
   ]
  },
  {
   "cell_type": "code",
   "execution_count": 80,
   "metadata": {},
   "outputs": [],
   "source": [
    "# nominale und numerische Spalten vorbereiten\n",
    "\n",
    "nominal_columns = [\"model\", \"transmission\", \"fuelType\", \"brand\"]\n",
    "nominal_categories = [list(data[column].unique()) for column in nominal_columns]\n",
    "\n",
    "numeric_columns = [\"year\", \"price\", \"mileage\", \"tax\", \"mpg\", \"engineSize\"]\n",
    "\n",
    "numeric_selector = make_column_selector(dtype_include=np.number)\n",
    "numeric_columns = numeric_selector(\n",
    "    df_train.drop(columns=[\"price\"])\n",
    "    )"
   ]
  },
  {
   "cell_type": "code",
   "execution_count": 81,
   "metadata": {},
   "outputs": [],
   "source": [
    "# X und y festlegen\n",
    "\n",
    "X_train = df_train.loc[:, nominal_columns + numeric_columns]\n",
    "y_train = df_train.loc[:, \"price\"]\n",
    "X_test = df_test.loc[:, nominal_columns + numeric_columns]\n",
    "y_test = df_test.loc[:, \"price\"]"
   ]
  },
  {
   "cell_type": "code",
   "execution_count": 82,
   "metadata": {},
   "outputs": [],
   "source": [
    "# Encoder und Scaler instanzieren\n",
    "# ANMERKUNG: Instanziieren reicht, da ColumnTransformer fit und transform von Encoder / Scaler ausführt.\n",
    "\n",
    "# nominal_encoder instanziieren, fit & transform nicht \n",
    "nominal_encoder = OneHotEncoder(sparse=False, drop=\"first\", categories=nominal_categories)\n",
    "\n",
    "# numeric_scaler instanziieren\n",
    "scaler = MinMaxScaler()"
   ]
  },
  {
   "cell_type": "code",
   "execution_count": 83,
   "metadata": {},
   "outputs": [],
   "source": [
    "# Model trainieren\n",
    "\n",
    "random_forest = RandomForestRegressor(\n",
    "    n_estimators=100,  # Anzahl der Bäume. Sinnvolle sind 100, 200, 500, maximal 1000\n",
    "    max_depth=10,  # Tiefe der Bäume\n",
    "    n_jobs=-1,  # Anzahl der Prozessoren, -1 steht für alle vorhandenen\n",
    ")"
   ]
  },
  {
   "cell_type": "code",
   "execution_count": 84,
   "metadata": {},
   "outputs": [],
   "source": [
    "# Pipeline erstellen\n",
    "# Im ColumnTransformer wird fit und transform durchgeführt. \n",
    "# Wenn nötig, hier eine Pipeline mit z.b. nominal_imputer + nominal_encoder vorschalten\n",
    "\n",
    "preprocessor = ColumnTransformer(\n",
    "    [\n",
    "    (\"nominal_preprocessing\", nominal_encoder, nominal_columns), \n",
    "    (\"numeric_preprocesor\", scaler, numeric_columns)\n",
    "    ],\n",
    "    remainder=\"drop\"# Zeilen, die unagetastet blieben / nicht in einer Pipline waren.\n",
    ")"
   ]
  },
  {
   "cell_type": "code",
   "execution_count": 85,
   "metadata": {},
   "outputs": [
    {
     "data": {
      "text/plain": [
       "Pipeline(steps=[('columntransformer',\n",
       "                 ColumnTransformer(transformers=[('nominal_preprocessing',\n",
       "                                                  OneHotEncoder(categories=[['A1',\n",
       "                                                                             'A6',\n",
       "                                                                             'A4',\n",
       "                                                                             'A3',\n",
       "                                                                             'Q3',\n",
       "                                                                             'Q5',\n",
       "                                                                             'A5',\n",
       "                                                                             'S4',\n",
       "                                                                             'Q2',\n",
       "                                                                             'A7',\n",
       "                                                                             'TT',\n",
       "                                                                             'Q7',\n",
       "                                                                             'RS6',\n",
       "                                                                             'RS3',\n",
       "                                                                             'A8',\n",
       "                                                                             'Q8',\n",
       "                                                                             'RS4',\n",
       "                                                                             'RS5',\n",
       "                                                                             'R8',\n",
       "                                                                             'SQ5',\n",
       "                                                                             'S8',\n",
       "                                                                             'SQ7',\n",
       "                                                                             'S3',\n",
       "                                                                             'S5',\n",
       "                                                                             'A2',\n",
       "                                                                             'RS7',\n",
       "                                                                             '5 '\n",
       "                                                                             'Series',\n",
       "                                                                             '6 '\n",
       "                                                                             'Series',\n",
       "                                                                             '1 '\n",
       "                                                                             'Series',\n",
       "                                                                             '7 '\n",
       "                                                                             'Series', ...],\n",
       "                                                                            ['Manual',\n",
       "                                                                             'Automatic',\n",
       "                                                                             'Semi-Auto',\n",
       "                                                                             'Othe...\n",
       "                                                                            ['Petrol',\n",
       "                                                                             'Diesel',\n",
       "                                                                             'Hybrid',\n",
       "                                                                             'Other',\n",
       "                                                                             'Electric'],\n",
       "                                                                            ['Audi',\n",
       "                                                                             'BMW',\n",
       "                                                                             'Ford',\n",
       "                                                                             'Hyundi',\n",
       "                                                                             'Mercedes',\n",
       "                                                                             'Skoda',\n",
       "                                                                             'Toyota',\n",
       "                                                                             'Vauxhall',\n",
       "                                                                             'VW']],\n",
       "                                                                drop='first',\n",
       "                                                                sparse=False),\n",
       "                                                  ['model', 'transmission',\n",
       "                                                   'fuelType', 'brand']),\n",
       "                                                 ('numeric_preprocesor',\n",
       "                                                  MinMaxScaler(),\n",
       "                                                  ['year', 'mileage', 'tax',\n",
       "                                                   'mpg', 'engineSize'])])),\n",
       "                ('randomforestregressor',\n",
       "                 RandomForestRegressor(max_depth=10, n_jobs=-1))])"
      ]
     },
     "execution_count": 85,
     "metadata": {},
     "output_type": "execute_result"
    }
   ],
   "source": [
    "# Im letzten Schritt soll das Data Preprocessing mit dem Baseline Model in einer Pipeline verknüpft werden.\n",
    "# In der Pipelin\n",
    "\n",
    "# Pipeline instanziieren\n",
    "random_forest_and_preprocessing = make_pipeline(\n",
    "    preprocessor,\n",
    "    random_forest\n",
    ")\n",
    "\n",
    "# Pipeline trainieren\n",
    "random_forest_and_preprocessing.fit(\n",
    "    X_train, \n",
    "    y_train\n",
    ")"
   ]
  },
  {
   "cell_type": "code",
   "execution_count": 86,
   "metadata": {},
   "outputs": [
    {
     "name": "stdout",
     "output_type": "stream",
     "text": [
      "r2_score_train:  0.9282080846986336\n",
      "r2_score_test:  0.9214226850516374\n"
     ]
    }
   ],
   "source": [
    "# r2_score ausgeben\n",
    "\n",
    "print(\"r2_score_train: \", random_forest_and_preprocessing.score(X_train, y_train))\n",
    "print(\"r2_score_test: \", random_forest_and_preprocessing.score(X_test, y_test))"
   ]
  },
  {
   "cell_type": "code",
   "execution_count": 87,
   "metadata": {},
   "outputs": [
    {
     "name": "stdout",
     "output_type": "stream",
     "text": [
      "Train_mse: 7022285.316925826\n",
      "Test_mse: 7504377.998457382\n",
      "Train_rmse: 2649.9594934500083\n",
      "Test_rmse: 2739.4119804179477\n"
     ]
    }
   ],
   "source": [
    "# mse und rmse ausgeben\n",
    "\n",
    "y_pred_train = random_forest_and_preprocessing.predict(X_train)\n",
    "y_pred_test = random_forest_and_preprocessing.predict(X_test)\n",
    "\n",
    "mse_train = mean_squared_error(y_train, y_pred_train)\n",
    "mse_test = mean_squared_error(y_test, y_pred_test)\n",
    "print(\"Train_mse:\", mse_train)\n",
    "print(\"Test_mse:\", mse_test)\n",
    "\n",
    "rmse_train = mean_squared_error(y_train, y_pred_train, squared=False) \n",
    "rmse_test = mean_squared_error(y_test, y_pred_test, squared=False) \n",
    "print(\"Train_rmse:\", rmse_train)\n",
    "print(\"Test_rmse:\", rmse_test)"
   ]
  },
  {
   "cell_type": "markdown",
   "metadata": {},
   "source": [
    "# Gradient Boosting"
   ]
  },
  {
   "cell_type": "code",
   "execution_count": 88,
   "metadata": {},
   "outputs": [
    {
     "name": "stdout",
     "output_type": "stream",
     "text": [
      "mse_train: 5272664.008412334\n",
      "mse_test: 5603139.41722359\n",
      "rmse_train: 2296.2282134867028\n",
      "rmse_test: 2367.0951432554607\n",
      "r2_score_train:  0.9460952338418778\n",
      "r2_score_test:  0.9413302940260647\n"
     ]
    }
   ],
   "source": [
    "boosting = GradientBoostingRegressor(\n",
    "n_estimators=100,\n",
    "learning_rate=1\n",
    ")\n",
    "\n",
    "boosting_preprocessing = make_pipeline(\n",
    "    preprocessor,\n",
    "    boosting\n",
    "    )\n",
    "\n",
    "boosting_preprocessing.fit(X_train, y_train)\n",
    "\n",
    "y_pred_train = boosting_preprocessing.predict(X_train)\n",
    "y_pred_test = boosting_preprocessing.predict(X_test)\n",
    "\n",
    "mse_train = mean_squared_error(y_train, y_pred_train)\n",
    "mse_test = mean_squared_error(y_test, y_pred_test)\n",
    "print(\"mse_train:\", mse_train)\n",
    "print(\"mse_test:\", mse_test)\n",
    "\n",
    "rmse_train = mean_squared_error(y_train, y_pred_train, squared=False)\n",
    "rmse_test = mean_squared_error(y_test, y_pred_test, squared=False)\n",
    "print(\"rmse_train:\", rmse_train)\n",
    "print(\"rmse_test:\", rmse_test)\n",
    "\n",
    "RegressionsKoeffizient = r2_score(y_train, y_pred_train) \n",
    "print(\"r2_score_train: \", RegressionsKoeffizient) \n",
    "RegressionsKoeffizient = r2_score(y_test, y_pred_test) \n",
    "print(\"r2_score_test: \", RegressionsKoeffizient) "
   ]
  },
  {
   "cell_type": "markdown",
   "metadata": {},
   "source": [
    "# Zusammenfassung und Fazit\n",
    "\n",
    "__Untersuchung Audi Datensatz__\n",
    "+ Es wurde zunächst der Audi-Datensatz untersucht, um ein Gefühl für die Daten zu bekommen und erste Modelle zu prüfen.\n",
    "+ Im Data Preprocessing wurde ein Encoding der nominalen Features, sowie eine Skalierung der numerischen Features vorgenommen.\n",
    "+ Es wurden die Modelle Lineare Regression, Ridge, DecisionTree und Random Forest untersucht. \n",
    "+ Alle Modelle könnten als Baseline Model verwendet werden. Die besten Ergebnisse lieferte der Random Forest: <br><br>$TrainMse: 4189931.298830139, TestMse: 5915453.776949075, TrainRmse: 2046.9321676181992, TestRmse: 2432.1705896069616, r2ScoreTrain:  0.9698680857682106, r2ScoreTest:  0.954438078511791$.\n",
    "+ Der r2 Score lag bei allen Modellen zischen 89 (Lineare Regression) und 96 (Random Forest), so dass hier augenscheinlich kein Over- oder Underfitting besteht.\n",
    "\n",
    "__Untersuchung gesamter Datensatz__\n",
    "+ Anschließend wurde der gesamte Datensatz betrachtet. Hierbei wurde die Marke als Feature hinzugenommen.\n",
    "+ Die Audi-Modelle sind in Ihrer Preisspanne sehr unterschiedlich, daher wurden in den weiteren Betrachtungen auch die Modelle weiter berücksichtigt. Die Vielzahl der Modelle verursachten keine Herausforderungen im Data Preprocessing und der Modelerstellung und Evaluation.\n",
    "+ Im Data Preprocessing wurde eine Reduzierung der Datensatzgröße, ein Encoding der nominalen Features, sowie eine Skalierung der numerischen Features vorgenommen.\n",
    "<br>\n",
    "+ Es wurden die selben Modelle wie im Audi Datensatz trainiert. Wieder lieferte der Random Forest die besten Ergebnisse mit <br><br> $TrainMmse: 6846499.532116714, TestMse: 8356073.613988444, TrainRmse: 2616.581650191087, TestRmse: 2890.6873947191943, r2ScoreTrain:  0.9290930015374518, r2ScoreTest:  0.9168834438840463$. \n",
    "\n",
    "+ Abschliessend wurde Gradient Boosting vorgenommen. Dieses lieferte auf den Gesamtdatensatz noch leicht verbesserte Werte: <br> <br> $mseTrain: 4705170.989512593, mseTest: 5883168.779431906, rmseTrain: 2169.140610820929, rmseTest: 2425.524433897112, r2ScoreTrain:  0.9521719833352353, r2ScoreTest:  0.9369097915440665$.\n",
    "\n",
    "__Besonderheiten__:\n",
    "+ Die Datensätze wurde jeweils zu Beginn nach Trainings- und Testdaten aufegeteilt, um ein möglichst realistisches Senario zu haben. <br> In den Testdaten kamen immer wieder Modelle (Features) vor, die in den Trainingsdaten nicht enthalten waren. Um dieser Herausforderung Herr zu werden, wurden für den OneHotEncoder die Kategorien (Modelle) des Gesamtdatensatzes verwendet, nicht die des Trainingsdatensatzes. Eine erste Internetrecherche zeigte, dass es für dieses Thema anscheinend bis noch keine endgültige Lösung gibt.\n",
    "+ Für das DataPreprocessing wurde mit Hilfe des ColumnTransformers eine Pipeline erstellt und mit dem Random Forest als Baseline Model in eine gesamt Pipeline überführt (Data Preprocessing + Random Forest). "
   ]
  }
 ],
 "metadata": {
  "kernelspec": {
   "display_name": "Python 3",
   "language": "python",
   "name": "python3"
  },
  "language_info": {
   "codemirror_mode": {
    "name": "ipython",
    "version": 3
   },
   "file_extension": ".py",
   "mimetype": "text/x-python",
   "name": "python",
   "nbconvert_exporter": "python",
   "pygments_lexer": "ipython3",
   "version": "3.8.3"
  },
  "toc": {
   "base_numbering": 1,
   "nav_menu": {},
   "number_sections": true,
   "sideBar": true,
   "skip_h1_title": false,
   "title_cell": "Table of Contents",
   "title_sidebar": "Contents",
   "toc_cell": false,
   "toc_position": {
    "height": "calc(100% - 180px)",
    "left": "10px",
    "top": "150px",
    "width": "384px"
   },
   "toc_section_display": true,
   "toc_window_display": true
  },
  "varInspector": {
   "cols": {
    "lenName": 16,
    "lenType": 16,
    "lenVar": 40
   },
   "kernels_config": {
    "python": {
     "delete_cmd_postfix": "",
     "delete_cmd_prefix": "del ",
     "library": "var_list.py",
     "varRefreshCmd": "print(var_dic_list())"
    },
    "r": {
     "delete_cmd_postfix": ") ",
     "delete_cmd_prefix": "rm(",
     "library": "var_list.r",
     "varRefreshCmd": "cat(var_dic_list()) "
    }
   },
   "types_to_exclude": [
    "module",
    "function",
    "builtin_function_or_method",
    "instance",
    "_Feature"
   ],
   "window_display": false
  }
 },
 "nbformat": 4,
 "nbformat_minor": 5
}
